{
 "cells": [
  {
   "cell_type": "markdown",
   "id": "f0f28065",
   "metadata": {},
   "source": [
    "## Asteroid Diameter Prediction\n",
    "#### AML Advance Python\n",
    "**Vahid Hadavi**\n",
    "\n",
    "**Team Members**:\n",
    "- Kshitiz Bhattarai\n",
    "- Mandil Karki\n",
    "- Pranay Gurung\n",
    "- Raj Kumar Phagami\n",
    "- Yug Dev Bhandari"
   ]
  },
  {
   "cell_type": "markdown",
   "id": "74e49386",
   "metadata": {},
   "source": [
    "### Importing Libraries"
   ]
  },
  {
   "cell_type": "code",
   "execution_count": 1,
   "id": "770b47cb",
   "metadata": {},
   "outputs": [
    {
     "name": "stderr",
     "output_type": "stream",
     "text": [
      "C:\\Users\\Yug Dev\\anaconda3\\lib\\site-packages\\scipy\\__init__.py:138: UserWarning: A NumPy version >=1.16.5 and <1.23.0 is required for this version of SciPy (detected version 1.23.2)\n",
      "  warnings.warn(f\"A NumPy version >={np_minversion} and <{np_maxversion} is required for this version of \"\n"
     ]
    }
   ],
   "source": [
    "import pandas as pd\n",
    "import numpy as np\n",
    "\n",
    "import matplotlib.pyplot as plt\n",
    "import seaborn as sns\n",
    "\n",
    "from sklearn.model_selection import train_test_split\n",
    "from sklearn.preprocessing import StandardScaler"
   ]
  },
  {
   "cell_type": "markdown",
   "id": "7fe0f8f0",
   "metadata": {},
   "source": [
    "### Reading Dataset"
   ]
  },
  {
   "cell_type": "markdown",
   "id": "a977be06",
   "metadata": {},
   "source": [
    "Importing Datasets and converting into pandas dataframe"
   ]
  },
  {
   "cell_type": "code",
   "execution_count": 2,
   "id": "ce18f571",
   "metadata": {
    "scrolled": true
   },
   "outputs": [
    {
     "data": {
      "text/html": [
       "<div>\n",
       "<style scoped>\n",
       "    .dataframe tbody tr th:only-of-type {\n",
       "        vertical-align: middle;\n",
       "    }\n",
       "\n",
       "    .dataframe tbody tr th {\n",
       "        vertical-align: top;\n",
       "    }\n",
       "\n",
       "    .dataframe thead th {\n",
       "        text-align: right;\n",
       "    }\n",
       "</style>\n",
       "<table border=\"1\" class=\"dataframe\">\n",
       "  <thead>\n",
       "    <tr style=\"text-align: right;\">\n",
       "      <th></th>\n",
       "      <th>full_name</th>\n",
       "      <th>a</th>\n",
       "      <th>e</th>\n",
       "      <th>G</th>\n",
       "      <th>i</th>\n",
       "      <th>om</th>\n",
       "      <th>w</th>\n",
       "      <th>q</th>\n",
       "      <th>ad</th>\n",
       "      <th>per_y</th>\n",
       "      <th>...</th>\n",
       "      <th>rot_per</th>\n",
       "      <th>GM</th>\n",
       "      <th>BV</th>\n",
       "      <th>UB</th>\n",
       "      <th>IR</th>\n",
       "      <th>spec_B</th>\n",
       "      <th>spec_T</th>\n",
       "      <th>neo</th>\n",
       "      <th>pha</th>\n",
       "      <th>moid</th>\n",
       "    </tr>\n",
       "  </thead>\n",
       "  <tbody>\n",
       "    <tr>\n",
       "      <th>0</th>\n",
       "      <td>1 Ceres</td>\n",
       "      <td>2.769165</td>\n",
       "      <td>0.076009</td>\n",
       "      <td>0.12</td>\n",
       "      <td>10.594067</td>\n",
       "      <td>80.305532</td>\n",
       "      <td>73.597694</td>\n",
       "      <td>2.558684</td>\n",
       "      <td>2.979647</td>\n",
       "      <td>4.608202</td>\n",
       "      <td>...</td>\n",
       "      <td>9.074170</td>\n",
       "      <td>62.6284</td>\n",
       "      <td>0.713</td>\n",
       "      <td>0.426</td>\n",
       "      <td>NaN</td>\n",
       "      <td>C</td>\n",
       "      <td>G</td>\n",
       "      <td>N</td>\n",
       "      <td>N</td>\n",
       "      <td>1.59478</td>\n",
       "    </tr>\n",
       "    <tr>\n",
       "      <th>1</th>\n",
       "      <td>2 Pallas</td>\n",
       "      <td>2.772466</td>\n",
       "      <td>0.230337</td>\n",
       "      <td>0.11</td>\n",
       "      <td>34.836234</td>\n",
       "      <td>173.080063</td>\n",
       "      <td>310.048857</td>\n",
       "      <td>2.133865</td>\n",
       "      <td>3.411067</td>\n",
       "      <td>4.616444</td>\n",
       "      <td>...</td>\n",
       "      <td>7.813200</td>\n",
       "      <td>14.3000</td>\n",
       "      <td>0.635</td>\n",
       "      <td>0.284</td>\n",
       "      <td>NaN</td>\n",
       "      <td>B</td>\n",
       "      <td>B</td>\n",
       "      <td>N</td>\n",
       "      <td>N</td>\n",
       "      <td>1.23324</td>\n",
       "    </tr>\n",
       "    <tr>\n",
       "      <th>2</th>\n",
       "      <td>3 Juno</td>\n",
       "      <td>2.669150</td>\n",
       "      <td>0.256942</td>\n",
       "      <td>0.32</td>\n",
       "      <td>12.988919</td>\n",
       "      <td>169.852760</td>\n",
       "      <td>248.138626</td>\n",
       "      <td>1.983332</td>\n",
       "      <td>3.354967</td>\n",
       "      <td>4.360814</td>\n",
       "      <td>...</td>\n",
       "      <td>7.210000</td>\n",
       "      <td>NaN</td>\n",
       "      <td>0.824</td>\n",
       "      <td>0.433</td>\n",
       "      <td>NaN</td>\n",
       "      <td>Sk</td>\n",
       "      <td>S</td>\n",
       "      <td>N</td>\n",
       "      <td>N</td>\n",
       "      <td>1.03454</td>\n",
       "    </tr>\n",
       "    <tr>\n",
       "      <th>3</th>\n",
       "      <td>4 Vesta</td>\n",
       "      <td>2.361418</td>\n",
       "      <td>0.088721</td>\n",
       "      <td>0.32</td>\n",
       "      <td>7.141771</td>\n",
       "      <td>103.810804</td>\n",
       "      <td>150.728541</td>\n",
       "      <td>2.151909</td>\n",
       "      <td>2.570926</td>\n",
       "      <td>3.628837</td>\n",
       "      <td>...</td>\n",
       "      <td>5.342128</td>\n",
       "      <td>17.8000</td>\n",
       "      <td>0.782</td>\n",
       "      <td>0.492</td>\n",
       "      <td>NaN</td>\n",
       "      <td>V</td>\n",
       "      <td>V</td>\n",
       "      <td>N</td>\n",
       "      <td>N</td>\n",
       "      <td>1.13948</td>\n",
       "    </tr>\n",
       "    <tr>\n",
       "      <th>4</th>\n",
       "      <td>5 Astraea</td>\n",
       "      <td>2.574249</td>\n",
       "      <td>0.191095</td>\n",
       "      <td>NaN</td>\n",
       "      <td>5.366988</td>\n",
       "      <td>141.576604</td>\n",
       "      <td>358.687608</td>\n",
       "      <td>2.082324</td>\n",
       "      <td>3.066174</td>\n",
       "      <td>4.130323</td>\n",
       "      <td>...</td>\n",
       "      <td>16.806000</td>\n",
       "      <td>NaN</td>\n",
       "      <td>0.826</td>\n",
       "      <td>0.411</td>\n",
       "      <td>NaN</td>\n",
       "      <td>S</td>\n",
       "      <td>S</td>\n",
       "      <td>N</td>\n",
       "      <td>N</td>\n",
       "      <td>1.09589</td>\n",
       "    </tr>\n",
       "  </tbody>\n",
       "</table>\n",
       "<p>5 rows × 27 columns</p>\n",
       "</div>"
      ],
      "text/plain": [
       "        full_name         a         e     G          i          om  \\\n",
       "0         1 Ceres  2.769165  0.076009  0.12  10.594067   80.305532   \n",
       "1        2 Pallas  2.772466  0.230337  0.11  34.836234  173.080063   \n",
       "2          3 Juno  2.669150  0.256942  0.32  12.988919  169.852760   \n",
       "3         4 Vesta  2.361418  0.088721  0.32   7.141771  103.810804   \n",
       "4       5 Astraea  2.574249  0.191095   NaN   5.366988  141.576604   \n",
       "\n",
       "            w         q        ad     per_y  ...    rot_per       GM     BV  \\\n",
       "0   73.597694  2.558684  2.979647  4.608202  ...   9.074170  62.6284  0.713   \n",
       "1  310.048857  2.133865  3.411067  4.616444  ...   7.813200  14.3000  0.635   \n",
       "2  248.138626  1.983332  3.354967  4.360814  ...   7.210000      NaN  0.824   \n",
       "3  150.728541  2.151909  2.570926  3.628837  ...   5.342128  17.8000  0.782   \n",
       "4  358.687608  2.082324  3.066174  4.130323  ...  16.806000      NaN  0.826   \n",
       "\n",
       "      UB  IR spec_B  spec_T  neo  pha     moid  \n",
       "0  0.426 NaN      C       G    N    N  1.59478  \n",
       "1  0.284 NaN      B       B    N    N  1.23324  \n",
       "2  0.433 NaN     Sk       S    N    N  1.03454  \n",
       "3  0.492 NaN      V       V    N    N  1.13948  \n",
       "4  0.411 NaN      S       S    N    N  1.09589  \n",
       "\n",
       "[5 rows x 27 columns]"
      ]
     },
     "execution_count": 2,
     "metadata": {},
     "output_type": "execute_result"
    }
   ],
   "source": [
    "asteroid_df = pd.read_csv(\"Asteroid.csv\", low_memory=False)\n",
    "asteroid_df.head(5)"
   ]
  },
  {
   "cell_type": "code",
   "execution_count": 3,
   "id": "4cd27f89",
   "metadata": {},
   "outputs": [
    {
     "data": {
      "text/plain": [
       "(839736, 27)"
      ]
     },
     "execution_count": 3,
     "metadata": {},
     "output_type": "execute_result"
    }
   ],
   "source": [
    "asteroid_df.shape"
   ]
  },
  {
   "cell_type": "code",
   "execution_count": 4,
   "id": "e1d49561",
   "metadata": {},
   "outputs": [
    {
     "name": "stdout",
     "output_type": "stream",
     "text": [
      "<class 'pandas.core.frame.DataFrame'>\n",
      "RangeIndex: 839736 entries, 0 to 839735\n",
      "Data columns (total 27 columns):\n",
      " #   Column          Non-Null Count   Dtype  \n",
      "---  ------          --------------   -----  \n",
      " 0   full_name       839736 non-null  object \n",
      " 1   a               839734 non-null  float64\n",
      " 2   e               839736 non-null  float64\n",
      " 3   G               119 non-null     float64\n",
      " 4   i               839736 non-null  float64\n",
      " 5   om              839736 non-null  float64\n",
      " 6   w               839736 non-null  float64\n",
      " 7   q               839736 non-null  float64\n",
      " 8   ad              839730 non-null  float64\n",
      " 9   per_y           839735 non-null  float64\n",
      " 10  data_arc        823947 non-null  float64\n",
      " 11  condition_code  838743 non-null  object \n",
      " 12  n_obs_used      839736 non-null  int64  \n",
      " 13  H               837042 non-null  float64\n",
      " 14  diameter        137681 non-null  object \n",
      " 15  extent          18 non-null      object \n",
      " 16  albedo          136452 non-null  float64\n",
      " 17  rot_per         18796 non-null   float64\n",
      " 18  GM              14 non-null      float64\n",
      " 19  BV              1021 non-null    float64\n",
      " 20  UB              979 non-null     float64\n",
      " 21  IR              1 non-null       float64\n",
      " 22  spec_B          1666 non-null    object \n",
      " 23  spec_T          980 non-null     object \n",
      " 24  neo             839730 non-null  object \n",
      " 25  pha             822814 non-null  object \n",
      " 26  moid            822814 non-null  float64\n",
      "dtypes: float64(18), int64(1), object(8)\n",
      "memory usage: 173.0+ MB\n"
     ]
    }
   ],
   "source": [
    "asteroid_df.info()"
   ]
  },
  {
   "cell_type": "markdown",
   "id": "53734d81",
   "metadata": {},
   "source": [
    "Statistical Description"
   ]
  },
  {
   "cell_type": "code",
   "execution_count": 5,
   "id": "d1c2f9a2",
   "metadata": {
    "scrolled": true
   },
   "outputs": [
    {
     "data": {
      "text/html": [
       "<div>\n",
       "<style scoped>\n",
       "    .dataframe tbody tr th:only-of-type {\n",
       "        vertical-align: middle;\n",
       "    }\n",
       "\n",
       "    .dataframe tbody tr th {\n",
       "        vertical-align: top;\n",
       "    }\n",
       "\n",
       "    .dataframe thead th {\n",
       "        text-align: right;\n",
       "    }\n",
       "</style>\n",
       "<table border=\"1\" class=\"dataframe\">\n",
       "  <thead>\n",
       "    <tr style=\"text-align: right;\">\n",
       "      <th></th>\n",
       "      <th>a</th>\n",
       "      <th>e</th>\n",
       "      <th>G</th>\n",
       "      <th>i</th>\n",
       "      <th>om</th>\n",
       "      <th>w</th>\n",
       "      <th>q</th>\n",
       "      <th>ad</th>\n",
       "      <th>per_y</th>\n",
       "      <th>data_arc</th>\n",
       "      <th>n_obs_used</th>\n",
       "      <th>H</th>\n",
       "      <th>albedo</th>\n",
       "      <th>rot_per</th>\n",
       "      <th>GM</th>\n",
       "      <th>BV</th>\n",
       "      <th>UB</th>\n",
       "      <th>IR</th>\n",
       "      <th>moid</th>\n",
       "    </tr>\n",
       "  </thead>\n",
       "  <tbody>\n",
       "    <tr>\n",
       "      <th>count</th>\n",
       "      <td>839734.000000</td>\n",
       "      <td>839736.000000</td>\n",
       "      <td>119.000000</td>\n",
       "      <td>839736.000000</td>\n",
       "      <td>839736.000000</td>\n",
       "      <td>839736.000000</td>\n",
       "      <td>839736.000000</td>\n",
       "      <td>839730.000000</td>\n",
       "      <td>839735.000000</td>\n",
       "      <td>823947.000000</td>\n",
       "      <td>839736.000000</td>\n",
       "      <td>837042.000000</td>\n",
       "      <td>136452.000000</td>\n",
       "      <td>18796.000000</td>\n",
       "      <td>1.400000e+01</td>\n",
       "      <td>1021.000000</td>\n",
       "      <td>979.000000</td>\n",
       "      <td>1.00</td>\n",
       "      <td>8.228140e+05</td>\n",
       "    </tr>\n",
       "    <tr>\n",
       "      <th>mean</th>\n",
       "      <td>2.843217</td>\n",
       "      <td>0.155633</td>\n",
       "      <td>0.178739</td>\n",
       "      <td>8.950009</td>\n",
       "      <td>168.501641</td>\n",
       "      <td>181.076593</td>\n",
       "      <td>2.404732</td>\n",
       "      <td>3.385707</td>\n",
       "      <td>6.859544</td>\n",
       "      <td>5660.187025</td>\n",
       "      <td>254.617708</td>\n",
       "      <td>16.786069</td>\n",
       "      <td>0.130052</td>\n",
       "      <td>21.136772</td>\n",
       "      <td>7.821928e+00</td>\n",
       "      <td>0.769212</td>\n",
       "      <td>0.364396</td>\n",
       "      <td>-0.33</td>\n",
       "      <td>1.423511e+00</td>\n",
       "    </tr>\n",
       "    <tr>\n",
       "      <th>std</th>\n",
       "      <td>37.327031</td>\n",
       "      <td>0.093888</td>\n",
       "      <td>0.134603</td>\n",
       "      <td>6.666273</td>\n",
       "      <td>103.096571</td>\n",
       "      <td>104.024110</td>\n",
       "      <td>2.233138</td>\n",
       "      <td>12.746419</td>\n",
       "      <td>252.172503</td>\n",
       "      <td>4192.420393</td>\n",
       "      <td>363.004548</td>\n",
       "      <td>1.821274</td>\n",
       "      <td>0.109983</td>\n",
       "      <td>73.131751</td>\n",
       "      <td>1.678880e+01</td>\n",
       "      <td>0.088625</td>\n",
       "      <td>0.095780</td>\n",
       "      <td>NaN</td>\n",
       "      <td>2.251048e+00</td>\n",
       "    </tr>\n",
       "    <tr>\n",
       "      <th>min</th>\n",
       "      <td>-32588.942986</td>\n",
       "      <td>0.000000</td>\n",
       "      <td>-0.250000</td>\n",
       "      <td>0.007546</td>\n",
       "      <td>0.000388</td>\n",
       "      <td>0.001666</td>\n",
       "      <td>0.070511</td>\n",
       "      <td>0.773684</td>\n",
       "      <td>0.000000</td>\n",
       "      <td>0.000000</td>\n",
       "      <td>2.000000</td>\n",
       "      <td>-1.100000</td>\n",
       "      <td>0.001000</td>\n",
       "      <td>0.004389</td>\n",
       "      <td>2.100000e-09</td>\n",
       "      <td>0.580000</td>\n",
       "      <td>0.120000</td>\n",
       "      <td>-0.33</td>\n",
       "      <td>3.437640e-07</td>\n",
       "    </tr>\n",
       "    <tr>\n",
       "      <th>25%</th>\n",
       "      <td>2.385244</td>\n",
       "      <td>0.091453</td>\n",
       "      <td>0.100000</td>\n",
       "      <td>4.069043</td>\n",
       "      <td>80.212344</td>\n",
       "      <td>91.039551</td>\n",
       "      <td>1.971939</td>\n",
       "      <td>2.775342</td>\n",
       "      <td>3.683896</td>\n",
       "      <td>3599.000000</td>\n",
       "      <td>50.000000</td>\n",
       "      <td>15.900000</td>\n",
       "      <td>0.053000</td>\n",
       "      <td>4.210000</td>\n",
       "      <td>1.022225e-03</td>\n",
       "      <td>0.700000</td>\n",
       "      <td>0.289000</td>\n",
       "      <td>-0.33</td>\n",
       "      <td>9.785395e-01</td>\n",
       "    </tr>\n",
       "    <tr>\n",
       "      <th>50%</th>\n",
       "      <td>2.644219</td>\n",
       "      <td>0.143654</td>\n",
       "      <td>0.190000</td>\n",
       "      <td>7.257311</td>\n",
       "      <td>160.296065</td>\n",
       "      <td>181.669812</td>\n",
       "      <td>2.225494</td>\n",
       "      <td>3.037745</td>\n",
       "      <td>4.299860</td>\n",
       "      <td>5792.000000</td>\n",
       "      <td>118.000000</td>\n",
       "      <td>16.800000</td>\n",
       "      <td>0.078000</td>\n",
       "      <td>6.653000</td>\n",
       "      <td>6.192500e-01</td>\n",
       "      <td>0.743000</td>\n",
       "      <td>0.360000</td>\n",
       "      <td>-0.33</td>\n",
       "      <td>1.237880e+00</td>\n",
       "    </tr>\n",
       "    <tr>\n",
       "      <th>75%</th>\n",
       "      <td>2.996035</td>\n",
       "      <td>0.199400</td>\n",
       "      <td>0.250000</td>\n",
       "      <td>12.256026</td>\n",
       "      <td>252.206645</td>\n",
       "      <td>271.523344</td>\n",
       "      <td>2.578162</td>\n",
       "      <td>3.357958</td>\n",
       "      <td>5.185951</td>\n",
       "      <td>7228.000000</td>\n",
       "      <td>292.000000</td>\n",
       "      <td>17.600000</td>\n",
       "      <td>0.188000</td>\n",
       "      <td>12.624250</td>\n",
       "      <td>6.500000e+00</td>\n",
       "      <td>0.850000</td>\n",
       "      <td>0.439000</td>\n",
       "      <td>-0.33</td>\n",
       "      <td>1.590610e+00</td>\n",
       "    </tr>\n",
       "    <tr>\n",
       "      <th>max</th>\n",
       "      <td>3043.149073</td>\n",
       "      <td>1.201134</td>\n",
       "      <td>0.600000</td>\n",
       "      <td>175.188725</td>\n",
       "      <td>359.999800</td>\n",
       "      <td>359.999833</td>\n",
       "      <td>80.424175</td>\n",
       "      <td>6081.841956</td>\n",
       "      <td>167877.712688</td>\n",
       "      <td>72684.000000</td>\n",
       "      <td>9325.000000</td>\n",
       "      <td>33.200000</td>\n",
       "      <td>1.000000</td>\n",
       "      <td>3240.000000</td>\n",
       "      <td>6.262840e+01</td>\n",
       "      <td>1.077000</td>\n",
       "      <td>0.655000</td>\n",
       "      <td>-0.33</td>\n",
       "      <td>7.950130e+01</td>\n",
       "    </tr>\n",
       "  </tbody>\n",
       "</table>\n",
       "</div>"
      ],
      "text/plain": [
       "                   a              e           G              i             om  \\\n",
       "count  839734.000000  839736.000000  119.000000  839736.000000  839736.000000   \n",
       "mean        2.843217       0.155633    0.178739       8.950009     168.501641   \n",
       "std        37.327031       0.093888    0.134603       6.666273     103.096571   \n",
       "min    -32588.942986       0.000000   -0.250000       0.007546       0.000388   \n",
       "25%         2.385244       0.091453    0.100000       4.069043      80.212344   \n",
       "50%         2.644219       0.143654    0.190000       7.257311     160.296065   \n",
       "75%         2.996035       0.199400    0.250000      12.256026     252.206645   \n",
       "max      3043.149073       1.201134    0.600000     175.188725     359.999800   \n",
       "\n",
       "                   w              q             ad          per_y  \\\n",
       "count  839736.000000  839736.000000  839730.000000  839735.000000   \n",
       "mean      181.076593       2.404732       3.385707       6.859544   \n",
       "std       104.024110       2.233138      12.746419     252.172503   \n",
       "min         0.001666       0.070511       0.773684       0.000000   \n",
       "25%        91.039551       1.971939       2.775342       3.683896   \n",
       "50%       181.669812       2.225494       3.037745       4.299860   \n",
       "75%       271.523344       2.578162       3.357958       5.185951   \n",
       "max       359.999833      80.424175    6081.841956  167877.712688   \n",
       "\n",
       "            data_arc     n_obs_used              H         albedo  \\\n",
       "count  823947.000000  839736.000000  837042.000000  136452.000000   \n",
       "mean     5660.187025     254.617708      16.786069       0.130052   \n",
       "std      4192.420393     363.004548       1.821274       0.109983   \n",
       "min         0.000000       2.000000      -1.100000       0.001000   \n",
       "25%      3599.000000      50.000000      15.900000       0.053000   \n",
       "50%      5792.000000     118.000000      16.800000       0.078000   \n",
       "75%      7228.000000     292.000000      17.600000       0.188000   \n",
       "max     72684.000000    9325.000000      33.200000       1.000000   \n",
       "\n",
       "            rot_per            GM           BV          UB    IR          moid  \n",
       "count  18796.000000  1.400000e+01  1021.000000  979.000000  1.00  8.228140e+05  \n",
       "mean      21.136772  7.821928e+00     0.769212    0.364396 -0.33  1.423511e+00  \n",
       "std       73.131751  1.678880e+01     0.088625    0.095780   NaN  2.251048e+00  \n",
       "min        0.004389  2.100000e-09     0.580000    0.120000 -0.33  3.437640e-07  \n",
       "25%        4.210000  1.022225e-03     0.700000    0.289000 -0.33  9.785395e-01  \n",
       "50%        6.653000  6.192500e-01     0.743000    0.360000 -0.33  1.237880e+00  \n",
       "75%       12.624250  6.500000e+00     0.850000    0.439000 -0.33  1.590610e+00  \n",
       "max     3240.000000  6.262840e+01     1.077000    0.655000 -0.33  7.950130e+01  "
      ]
     },
     "execution_count": 5,
     "metadata": {},
     "output_type": "execute_result"
    }
   ],
   "source": [
    "asteroid_df.describe()"
   ]
  },
  {
   "cell_type": "markdown",
   "id": "cafd7826",
   "metadata": {},
   "source": [
    "### Checking and Handling Missing Values "
   ]
  },
  {
   "cell_type": "code",
   "execution_count": 6,
   "id": "6e2f07c2",
   "metadata": {},
   "outputs": [
    {
     "data": {
      "text/plain": [
       "full_name              0\n",
       "a                      2\n",
       "e                      0\n",
       "G                 839617\n",
       "i                      0\n",
       "om                     0\n",
       "w                      0\n",
       "q                      0\n",
       "ad                     6\n",
       "per_y                  1\n",
       "data_arc           15789\n",
       "condition_code       993\n",
       "n_obs_used             0\n",
       "H                   2694\n",
       "diameter          702055\n",
       "extent            839718\n",
       "albedo            703284\n",
       "rot_per           820940\n",
       "GM                839722\n",
       "BV                838715\n",
       "UB                838757\n",
       "IR                839735\n",
       "spec_B            838070\n",
       "spec_T            838756\n",
       "neo                    6\n",
       "pha                16922\n",
       "moid               16922\n",
       "dtype: int64"
      ]
     },
     "execution_count": 6,
     "metadata": {},
     "output_type": "execute_result"
    }
   ],
   "source": [
    "asteroid_df.isnull().sum()"
   ]
  },
  {
   "cell_type": "code",
   "execution_count": 7,
   "id": "d93fe96d",
   "metadata": {},
   "outputs": [],
   "source": [
    "#percentage of missing values\n",
    "percent_missing_values = asteroid_df.isnull().mean()*100\n",
    "percent_missing_values  = percent_missing_values.to_dict()"
   ]
  },
  {
   "cell_type": "code",
   "execution_count": 8,
   "id": "17edc758",
   "metadata": {},
   "outputs": [
    {
     "ename": "TypeError",
     "evalue": "'<' not supported between instances of 'dict_values' and 'dict_values'",
     "output_type": "error",
     "traceback": [
      "\u001b[1;31m---------------------------------------------------------------------------\u001b[0m",
      "\u001b[1;31mTypeError\u001b[0m                                 Traceback (most recent call last)",
      "\u001b[1;32m<ipython-input-8-ad7041caf622>\u001b[0m in \u001b[0;36m<module>\u001b[1;34m\u001b[0m\n\u001b[0;32m      1\u001b[0m \u001b[0mmissing_value\u001b[0m \u001b[1;33m=\u001b[0m \u001b[0mpd\u001b[0m\u001b[1;33m.\u001b[0m\u001b[0mDataFrame\u001b[0m\u001b[1;33m(\u001b[0m\u001b[1;33m{\u001b[0m\u001b[1;34m'column'\u001b[0m\u001b[1;33m:\u001b[0m \u001b[0mpercent_missing_values\u001b[0m\u001b[1;33m.\u001b[0m\u001b[0mkeys\u001b[0m\u001b[1;33m(\u001b[0m\u001b[1;33m)\u001b[0m\u001b[1;33m,\u001b[0m\u001b[1;34m'percentage'\u001b[0m\u001b[1;33m:\u001b[0m \u001b[0mpercent_missing_values\u001b[0m\u001b[1;33m.\u001b[0m\u001b[0mvalues\u001b[0m\u001b[1;33m(\u001b[0m\u001b[1;33m)\u001b[0m\u001b[1;33m}\u001b[0m\u001b[1;33m)\u001b[0m\u001b[1;33m\u001b[0m\u001b[1;33m\u001b[0m\u001b[0m\n\u001b[1;32m----> 2\u001b[1;33m \u001b[0mmissing_value\u001b[0m\u001b[1;33m.\u001b[0m\u001b[0msort_values\u001b[0m\u001b[1;33m(\u001b[0m\u001b[1;34m'percentage'\u001b[0m\u001b[1;33m,\u001b[0m \u001b[0mascending\u001b[0m\u001b[1;33m=\u001b[0m\u001b[1;32mFalse\u001b[0m\u001b[1;33m)\u001b[0m\u001b[1;33m\u001b[0m\u001b[1;33m\u001b[0m\u001b[0m\n\u001b[0m\u001b[0;32m      3\u001b[0m \u001b[0mmissing_value\u001b[0m\u001b[1;33m.\u001b[0m\u001b[0mhead\u001b[0m\u001b[1;33m(\u001b[0m\u001b[1;33m)\u001b[0m\u001b[1;33m\u001b[0m\u001b[1;33m\u001b[0m\u001b[0m\n",
      "\u001b[1;32m~\\anaconda3\\lib\\site-packages\\pandas\\core\\frame.py\u001b[0m in \u001b[0;36msort_values\u001b[1;34m(self, by, axis, ascending, inplace, kind, na_position, ignore_index)\u001b[0m\n\u001b[0;32m   4930\u001b[0m                 \u001b[0mascending\u001b[0m \u001b[1;33m=\u001b[0m \u001b[0mascending\u001b[0m\u001b[1;33m[\u001b[0m\u001b[1;36m0\u001b[0m\u001b[1;33m]\u001b[0m\u001b[1;33m\u001b[0m\u001b[1;33m\u001b[0m\u001b[0m\n\u001b[0;32m   4931\u001b[0m \u001b[1;33m\u001b[0m\u001b[0m\n\u001b[1;32m-> 4932\u001b[1;33m             indexer = nargsort(\n\u001b[0m\u001b[0;32m   4933\u001b[0m                 \u001b[0mk\u001b[0m\u001b[1;33m,\u001b[0m \u001b[0mkind\u001b[0m\u001b[1;33m=\u001b[0m\u001b[0mkind\u001b[0m\u001b[1;33m,\u001b[0m \u001b[0mascending\u001b[0m\u001b[1;33m=\u001b[0m\u001b[0mascending\u001b[0m\u001b[1;33m,\u001b[0m \u001b[0mna_position\u001b[0m\u001b[1;33m=\u001b[0m\u001b[0mna_position\u001b[0m\u001b[1;33m\u001b[0m\u001b[1;33m\u001b[0m\u001b[0m\n\u001b[0;32m   4934\u001b[0m             )\n",
      "\u001b[1;32m~\\anaconda3\\lib\\site-packages\\pandas\\core\\sorting.py\u001b[0m in \u001b[0;36mnargsort\u001b[1;34m(items, kind, ascending, na_position)\u001b[0m\n\u001b[0;32m    272\u001b[0m         \u001b[0mnon_nans\u001b[0m \u001b[1;33m=\u001b[0m \u001b[0mnon_nans\u001b[0m\u001b[1;33m[\u001b[0m\u001b[1;33m:\u001b[0m\u001b[1;33m:\u001b[0m\u001b[1;33m-\u001b[0m\u001b[1;36m1\u001b[0m\u001b[1;33m]\u001b[0m\u001b[1;33m\u001b[0m\u001b[1;33m\u001b[0m\u001b[0m\n\u001b[0;32m    273\u001b[0m         \u001b[0mnon_nan_idx\u001b[0m \u001b[1;33m=\u001b[0m \u001b[0mnon_nan_idx\u001b[0m\u001b[1;33m[\u001b[0m\u001b[1;33m:\u001b[0m\u001b[1;33m:\u001b[0m\u001b[1;33m-\u001b[0m\u001b[1;36m1\u001b[0m\u001b[1;33m]\u001b[0m\u001b[1;33m\u001b[0m\u001b[1;33m\u001b[0m\u001b[0m\n\u001b[1;32m--> 274\u001b[1;33m     \u001b[0mindexer\u001b[0m \u001b[1;33m=\u001b[0m \u001b[0mnon_nan_idx\u001b[0m\u001b[1;33m[\u001b[0m\u001b[0mnon_nans\u001b[0m\u001b[1;33m.\u001b[0m\u001b[0margsort\u001b[0m\u001b[1;33m(\u001b[0m\u001b[0mkind\u001b[0m\u001b[1;33m=\u001b[0m\u001b[0mkind\u001b[0m\u001b[1;33m)\u001b[0m\u001b[1;33m]\u001b[0m\u001b[1;33m\u001b[0m\u001b[1;33m\u001b[0m\u001b[0m\n\u001b[0m\u001b[0;32m    275\u001b[0m     \u001b[1;32mif\u001b[0m \u001b[1;32mnot\u001b[0m \u001b[0mascending\u001b[0m\u001b[1;33m:\u001b[0m\u001b[1;33m\u001b[0m\u001b[1;33m\u001b[0m\u001b[0m\n\u001b[0;32m    276\u001b[0m         \u001b[0mindexer\u001b[0m \u001b[1;33m=\u001b[0m \u001b[0mindexer\u001b[0m\u001b[1;33m[\u001b[0m\u001b[1;33m:\u001b[0m\u001b[1;33m:\u001b[0m\u001b[1;33m-\u001b[0m\u001b[1;36m1\u001b[0m\u001b[1;33m]\u001b[0m\u001b[1;33m\u001b[0m\u001b[1;33m\u001b[0m\u001b[0m\n",
      "\u001b[1;31mTypeError\u001b[0m: '<' not supported between instances of 'dict_values' and 'dict_values'"
     ]
    }
   ],
   "source": [
    "missing_value = pd.DataFrame({'column': percent_missing_values.keys(),'percentage': percent_missing_values.values()})\n",
    "missing_value.sort_values('percentage', ascending=False)\n",
    "missing_value.head()"
   ]
  },
  {
   "cell_type": "markdown",
   "id": "25fe6c85",
   "metadata": {},
   "source": [
    "**Removing the columns having the percentage of missing values **\n",
    "\n",
    "Filtering the columns of  missing values"
   ]
  },
  {
   "cell_type": "code",
   "execution_count": 47,
   "id": "a185040f",
   "metadata": {},
   "outputs": [
    {
     "data": {
      "text/plain": [
       "3           G\n",
       "15     extent\n",
       "16     albedo\n",
       "17    rot_per\n",
       "18         GM\n",
       "19         BV\n",
       "20         UB\n",
       "21         IR\n",
       "22     spec_B\n",
       "23     spec_T\n",
       "Name: column, dtype: object"
      ]
     },
     "execution_count": 47,
     "metadata": {},
     "output_type": "execute_result"
    }
   ],
   "source": [
    "columns_to_drop = missing_value[\"column\"][missing_value[\"percentage\"]>83.7]\n",
    "columns_to_drop "
   ]
  },
  {
   "cell_type": "code",
   "execution_count": 48,
   "id": "149f9fc6",
   "metadata": {},
   "outputs": [],
   "source": [
    "asteroid_df.drop(columns = columns_to_drop, inplace = True)"
   ]
  },
  {
   "cell_type": "code",
   "execution_count": 49,
   "id": "e809c8fb",
   "metadata": {},
   "outputs": [
    {
     "data": {
      "text/html": [
       "<div>\n",
       "<style scoped>\n",
       "    .dataframe tbody tr th:only-of-type {\n",
       "        vertical-align: middle;\n",
       "    }\n",
       "\n",
       "    .dataframe tbody tr th {\n",
       "        vertical-align: top;\n",
       "    }\n",
       "\n",
       "    .dataframe thead th {\n",
       "        text-align: right;\n",
       "    }\n",
       "</style>\n",
       "<table border=\"1\" class=\"dataframe\">\n",
       "  <thead>\n",
       "    <tr style=\"text-align: right;\">\n",
       "      <th></th>\n",
       "      <th>full_name</th>\n",
       "      <th>a</th>\n",
       "      <th>e</th>\n",
       "      <th>i</th>\n",
       "      <th>om</th>\n",
       "      <th>w</th>\n",
       "      <th>q</th>\n",
       "      <th>ad</th>\n",
       "      <th>per_y</th>\n",
       "      <th>data_arc</th>\n",
       "      <th>condition_code</th>\n",
       "      <th>n_obs_used</th>\n",
       "      <th>H</th>\n",
       "      <th>diameter</th>\n",
       "      <th>neo</th>\n",
       "      <th>pha</th>\n",
       "      <th>moid</th>\n",
       "    </tr>\n",
       "  </thead>\n",
       "  <tbody>\n",
       "    <tr>\n",
       "      <th>0</th>\n",
       "      <td>1 Ceres</td>\n",
       "      <td>2.769165</td>\n",
       "      <td>0.076009</td>\n",
       "      <td>10.594067</td>\n",
       "      <td>80.305532</td>\n",
       "      <td>73.597694</td>\n",
       "      <td>2.558684</td>\n",
       "      <td>2.979647</td>\n",
       "      <td>4.608202</td>\n",
       "      <td>8822.0</td>\n",
       "      <td>0</td>\n",
       "      <td>1002</td>\n",
       "      <td>3.34</td>\n",
       "      <td>939.4</td>\n",
       "      <td>N</td>\n",
       "      <td>N</td>\n",
       "      <td>1.59478</td>\n",
       "    </tr>\n",
       "    <tr>\n",
       "      <th>1</th>\n",
       "      <td>2 Pallas</td>\n",
       "      <td>2.772466</td>\n",
       "      <td>0.230337</td>\n",
       "      <td>34.836234</td>\n",
       "      <td>173.080063</td>\n",
       "      <td>310.048857</td>\n",
       "      <td>2.133865</td>\n",
       "      <td>3.411067</td>\n",
       "      <td>4.616444</td>\n",
       "      <td>72318.0</td>\n",
       "      <td>0</td>\n",
       "      <td>8490</td>\n",
       "      <td>4.13</td>\n",
       "      <td>545</td>\n",
       "      <td>N</td>\n",
       "      <td>N</td>\n",
       "      <td>1.23324</td>\n",
       "    </tr>\n",
       "    <tr>\n",
       "      <th>2</th>\n",
       "      <td>3 Juno</td>\n",
       "      <td>2.669150</td>\n",
       "      <td>0.256942</td>\n",
       "      <td>12.988919</td>\n",
       "      <td>169.852760</td>\n",
       "      <td>248.138626</td>\n",
       "      <td>1.983332</td>\n",
       "      <td>3.354967</td>\n",
       "      <td>4.360814</td>\n",
       "      <td>72684.0</td>\n",
       "      <td>0</td>\n",
       "      <td>7104</td>\n",
       "      <td>5.33</td>\n",
       "      <td>246.596</td>\n",
       "      <td>N</td>\n",
       "      <td>N</td>\n",
       "      <td>1.03454</td>\n",
       "    </tr>\n",
       "    <tr>\n",
       "      <th>3</th>\n",
       "      <td>4 Vesta</td>\n",
       "      <td>2.361418</td>\n",
       "      <td>0.088721</td>\n",
       "      <td>7.141771</td>\n",
       "      <td>103.810804</td>\n",
       "      <td>150.728541</td>\n",
       "      <td>2.151909</td>\n",
       "      <td>2.570926</td>\n",
       "      <td>3.628837</td>\n",
       "      <td>24288.0</td>\n",
       "      <td>0</td>\n",
       "      <td>9325</td>\n",
       "      <td>3.20</td>\n",
       "      <td>525.4</td>\n",
       "      <td>N</td>\n",
       "      <td>N</td>\n",
       "      <td>1.13948</td>\n",
       "    </tr>\n",
       "    <tr>\n",
       "      <th>4</th>\n",
       "      <td>5 Astraea</td>\n",
       "      <td>2.574249</td>\n",
       "      <td>0.191095</td>\n",
       "      <td>5.366988</td>\n",
       "      <td>141.576604</td>\n",
       "      <td>358.687608</td>\n",
       "      <td>2.082324</td>\n",
       "      <td>3.066174</td>\n",
       "      <td>4.130323</td>\n",
       "      <td>63431.0</td>\n",
       "      <td>0</td>\n",
       "      <td>2861</td>\n",
       "      <td>6.85</td>\n",
       "      <td>106.699</td>\n",
       "      <td>N</td>\n",
       "      <td>N</td>\n",
       "      <td>1.09589</td>\n",
       "    </tr>\n",
       "  </tbody>\n",
       "</table>\n",
       "</div>"
      ],
      "text/plain": [
       "        full_name         a         e          i          om           w  \\\n",
       "0         1 Ceres  2.769165  0.076009  10.594067   80.305532   73.597694   \n",
       "1        2 Pallas  2.772466  0.230337  34.836234  173.080063  310.048857   \n",
       "2          3 Juno  2.669150  0.256942  12.988919  169.852760  248.138626   \n",
       "3         4 Vesta  2.361418  0.088721   7.141771  103.810804  150.728541   \n",
       "4       5 Astraea  2.574249  0.191095   5.366988  141.576604  358.687608   \n",
       "\n",
       "          q        ad     per_y  data_arc condition_code  n_obs_used     H  \\\n",
       "0  2.558684  2.979647  4.608202    8822.0              0        1002  3.34   \n",
       "1  2.133865  3.411067  4.616444   72318.0              0        8490  4.13   \n",
       "2  1.983332  3.354967  4.360814   72684.0              0        7104  5.33   \n",
       "3  2.151909  2.570926  3.628837   24288.0              0        9325  3.20   \n",
       "4  2.082324  3.066174  4.130323   63431.0              0        2861  6.85   \n",
       "\n",
       "  diameter neo pha     moid  \n",
       "0    939.4   N   N  1.59478  \n",
       "1      545   N   N  1.23324  \n",
       "2  246.596   N   N  1.03454  \n",
       "3    525.4   N   N  1.13948  \n",
       "4  106.699   N   N  1.09589  "
      ]
     },
     "execution_count": 49,
     "metadata": {},
     "output_type": "execute_result"
    }
   ],
   "source": [
    "asteroid_df.head()"
   ]
  },
  {
   "cell_type": "markdown",
   "id": "e9e6410c",
   "metadata": {},
   "source": [
    "After dropping the columns we got 17 columns out of 27"
   ]
  },
  {
   "cell_type": "code",
   "execution_count": 51,
   "id": "94837c3e",
   "metadata": {},
   "outputs": [
    {
     "data": {
      "text/plain": [
       "(839736, 17)"
      ]
     },
     "execution_count": 51,
     "metadata": {},
     "output_type": "execute_result"
    }
   ],
   "source": [
    "asteroid_df.shape"
   ]
  },
  {
   "cell_type": "markdown",
   "id": "47f86969",
   "metadata": {},
   "source": [
    "#### Deleting rows with missing values"
   ]
  },
  {
   "cell_type": "code",
   "execution_count": 52,
   "id": "99a4a4eb",
   "metadata": {},
   "outputs": [
    {
     "data": {
      "text/html": [
       "<div>\n",
       "<style scoped>\n",
       "    .dataframe tbody tr th:only-of-type {\n",
       "        vertical-align: middle;\n",
       "    }\n",
       "\n",
       "    .dataframe tbody tr th {\n",
       "        vertical-align: top;\n",
       "    }\n",
       "\n",
       "    .dataframe thead th {\n",
       "        text-align: right;\n",
       "    }\n",
       "</style>\n",
       "<table border=\"1\" class=\"dataframe\">\n",
       "  <thead>\n",
       "    <tr style=\"text-align: right;\">\n",
       "      <th></th>\n",
       "      <th>full_name</th>\n",
       "      <th>a</th>\n",
       "      <th>e</th>\n",
       "      <th>i</th>\n",
       "      <th>om</th>\n",
       "      <th>w</th>\n",
       "      <th>q</th>\n",
       "      <th>ad</th>\n",
       "      <th>per_y</th>\n",
       "      <th>data_arc</th>\n",
       "      <th>condition_code</th>\n",
       "      <th>n_obs_used</th>\n",
       "      <th>H</th>\n",
       "      <th>diameter</th>\n",
       "      <th>neo</th>\n",
       "      <th>pha</th>\n",
       "      <th>moid</th>\n",
       "    </tr>\n",
       "  </thead>\n",
       "  <tbody>\n",
       "    <tr>\n",
       "      <th>0</th>\n",
       "      <td>1 Ceres</td>\n",
       "      <td>2.769165</td>\n",
       "      <td>0.076009</td>\n",
       "      <td>10.594067</td>\n",
       "      <td>80.305532</td>\n",
       "      <td>73.597694</td>\n",
       "      <td>2.558684</td>\n",
       "      <td>2.979647</td>\n",
       "      <td>4.608202</td>\n",
       "      <td>8822.0</td>\n",
       "      <td>0</td>\n",
       "      <td>1002</td>\n",
       "      <td>3.34</td>\n",
       "      <td>939.4</td>\n",
       "      <td>N</td>\n",
       "      <td>N</td>\n",
       "      <td>1.59478</td>\n",
       "    </tr>\n",
       "    <tr>\n",
       "      <th>1</th>\n",
       "      <td>2 Pallas</td>\n",
       "      <td>2.772466</td>\n",
       "      <td>0.230337</td>\n",
       "      <td>34.836234</td>\n",
       "      <td>173.080063</td>\n",
       "      <td>310.048857</td>\n",
       "      <td>2.133865</td>\n",
       "      <td>3.411067</td>\n",
       "      <td>4.616444</td>\n",
       "      <td>72318.0</td>\n",
       "      <td>0</td>\n",
       "      <td>8490</td>\n",
       "      <td>4.13</td>\n",
       "      <td>545</td>\n",
       "      <td>N</td>\n",
       "      <td>N</td>\n",
       "      <td>1.23324</td>\n",
       "    </tr>\n",
       "    <tr>\n",
       "      <th>2</th>\n",
       "      <td>3 Juno</td>\n",
       "      <td>2.669150</td>\n",
       "      <td>0.256942</td>\n",
       "      <td>12.988919</td>\n",
       "      <td>169.852760</td>\n",
       "      <td>248.138626</td>\n",
       "      <td>1.983332</td>\n",
       "      <td>3.354967</td>\n",
       "      <td>4.360814</td>\n",
       "      <td>72684.0</td>\n",
       "      <td>0</td>\n",
       "      <td>7104</td>\n",
       "      <td>5.33</td>\n",
       "      <td>246.596</td>\n",
       "      <td>N</td>\n",
       "      <td>N</td>\n",
       "      <td>1.03454</td>\n",
       "    </tr>\n",
       "    <tr>\n",
       "      <th>3</th>\n",
       "      <td>4 Vesta</td>\n",
       "      <td>2.361418</td>\n",
       "      <td>0.088721</td>\n",
       "      <td>7.141771</td>\n",
       "      <td>103.810804</td>\n",
       "      <td>150.728541</td>\n",
       "      <td>2.151909</td>\n",
       "      <td>2.570926</td>\n",
       "      <td>3.628837</td>\n",
       "      <td>24288.0</td>\n",
       "      <td>0</td>\n",
       "      <td>9325</td>\n",
       "      <td>3.20</td>\n",
       "      <td>525.4</td>\n",
       "      <td>N</td>\n",
       "      <td>N</td>\n",
       "      <td>1.13948</td>\n",
       "    </tr>\n",
       "    <tr>\n",
       "      <th>4</th>\n",
       "      <td>5 Astraea</td>\n",
       "      <td>2.574249</td>\n",
       "      <td>0.191095</td>\n",
       "      <td>5.366988</td>\n",
       "      <td>141.576604</td>\n",
       "      <td>358.687608</td>\n",
       "      <td>2.082324</td>\n",
       "      <td>3.066174</td>\n",
       "      <td>4.130323</td>\n",
       "      <td>63431.0</td>\n",
       "      <td>0</td>\n",
       "      <td>2861</td>\n",
       "      <td>6.85</td>\n",
       "      <td>106.699</td>\n",
       "      <td>N</td>\n",
       "      <td>N</td>\n",
       "      <td>1.09589</td>\n",
       "    </tr>\n",
       "  </tbody>\n",
       "</table>\n",
       "</div>"
      ],
      "text/plain": [
       "        full_name         a         e          i          om           w  \\\n",
       "0         1 Ceres  2.769165  0.076009  10.594067   80.305532   73.597694   \n",
       "1        2 Pallas  2.772466  0.230337  34.836234  173.080063  310.048857   \n",
       "2          3 Juno  2.669150  0.256942  12.988919  169.852760  248.138626   \n",
       "3         4 Vesta  2.361418  0.088721   7.141771  103.810804  150.728541   \n",
       "4       5 Astraea  2.574249  0.191095   5.366988  141.576604  358.687608   \n",
       "\n",
       "          q        ad     per_y  data_arc condition_code  n_obs_used     H  \\\n",
       "0  2.558684  2.979647  4.608202    8822.0              0        1002  3.34   \n",
       "1  2.133865  3.411067  4.616444   72318.0              0        8490  4.13   \n",
       "2  1.983332  3.354967  4.360814   72684.0              0        7104  5.33   \n",
       "3  2.151909  2.570926  3.628837   24288.0              0        9325  3.20   \n",
       "4  2.082324  3.066174  4.130323   63431.0              0        2861  6.85   \n",
       "\n",
       "  diameter neo pha     moid  \n",
       "0    939.4   N   N  1.59478  \n",
       "1      545   N   N  1.23324  \n",
       "2  246.596   N   N  1.03454  \n",
       "3    525.4   N   N  1.13948  \n",
       "4  106.699   N   N  1.09589  "
      ]
     },
     "execution_count": 52,
     "metadata": {},
     "output_type": "execute_result"
    }
   ],
   "source": [
    "cleaned_df= asteroid_df.dropna()\n",
    "cleaned_df.head()"
   ]
  },
  {
   "cell_type": "markdown",
   "id": "a98fad09",
   "metadata": {},
   "source": [
    "After deleting the rows with missing values we got 136799 rows out of 839736 "
   ]
  },
  {
   "cell_type": "code",
   "execution_count": 53,
   "id": "8a9cb060",
   "metadata": {},
   "outputs": [
    {
     "data": {
      "text/plain": [
       "(136799, 17)"
      ]
     },
     "execution_count": 53,
     "metadata": {},
     "output_type": "execute_result"
    }
   ],
   "source": [
    "cleaned_df.shape"
   ]
  },
  {
   "cell_type": "code",
   "execution_count": null,
   "id": "97e61959",
   "metadata": {},
   "outputs": [],
   "source": [
    "# dropped rows in which 'diameter','data_arc' or 'albedo' value is missing\n",
    "# df=df.dropna(subset = ['diameter', 'albedo', 'data_arc'])"
   ]
  },
  {
   "cell_type": "code",
   "execution_count": 54,
   "id": "c64bdd9d",
   "metadata": {
    "scrolled": true
   },
   "outputs": [
    {
     "data": {
      "text/plain": [
       "full_name         0\n",
       "a                 0\n",
       "e                 0\n",
       "i                 0\n",
       "om                0\n",
       "w                 0\n",
       "q                 0\n",
       "ad                0\n",
       "per_y             0\n",
       "data_arc          0\n",
       "condition_code    0\n",
       "n_obs_used        0\n",
       "H                 0\n",
       "diameter          0\n",
       "neo               0\n",
       "pha               0\n",
       "moid              0\n",
       "dtype: int64"
      ]
     },
     "execution_count": 54,
     "metadata": {},
     "output_type": "execute_result"
    }
   ],
   "source": [
    "cleaned_df.isnull().sum()"
   ]
  },
  {
   "cell_type": "markdown",
   "id": "0223fb81",
   "metadata": {},
   "source": [
    "### Feature Engineering"
   ]
  },
  {
   "cell_type": "markdown",
   "id": "a15812d4",
   "metadata": {},
   "source": [
    "Checking the datatypes"
   ]
  },
  {
   "cell_type": "code",
   "execution_count": 56,
   "id": "7399244a",
   "metadata": {
    "scrolled": true
   },
   "outputs": [
    {
     "data": {
      "text/plain": [
       "full_name          object\n",
       "a                 float64\n",
       "e                 float64\n",
       "i                 float64\n",
       "om                float64\n",
       "w                 float64\n",
       "q                 float64\n",
       "ad                float64\n",
       "per_y             float64\n",
       "data_arc          float64\n",
       "condition_code     object\n",
       "n_obs_used          int64\n",
       "H                 float64\n",
       "diameter           object\n",
       "neo                object\n",
       "pha                object\n",
       "moid              float64\n",
       "dtype: object"
      ]
     },
     "execution_count": 56,
     "metadata": {},
     "output_type": "execute_result"
    }
   ],
   "source": [
    "cleaned_df.dtypes"
   ]
  },
  {
   "cell_type": "markdown",
   "id": "c59868c2",
   "metadata": {},
   "source": [
    "the datatype of diameter is object which points to the string. as our goal is to predict the diameter its should be in float"
   ]
  },
  {
   "cell_type": "code",
   "execution_count": 59,
   "id": "8fa22c44",
   "metadata": {},
   "outputs": [],
   "source": [
    "convert = {'diameter':float, 'condition_code':int}\n",
    "cleaned_df = cleaned_df.astype(convert)"
   ]
  },
  {
   "cell_type": "code",
   "execution_count": 62,
   "id": "fe860e63",
   "metadata": {
    "scrolled": true
   },
   "outputs": [
    {
     "data": {
      "text/plain": [
       "full_name          object\n",
       "a                 float64\n",
       "e                 float64\n",
       "i                 float64\n",
       "om                float64\n",
       "w                 float64\n",
       "q                 float64\n",
       "ad                float64\n",
       "per_y             float64\n",
       "data_arc          float64\n",
       "condition_code      int32\n",
       "n_obs_used          int64\n",
       "H                 float64\n",
       "diameter          float64\n",
       "neo                object\n",
       "pha                object\n",
       "moid              float64\n",
       "dtype: object"
      ]
     },
     "execution_count": 62,
     "metadata": {},
     "output_type": "execute_result"
    }
   ],
   "source": [
    "cleaned_df.dtypes"
   ]
  },
  {
   "cell_type": "markdown",
   "id": "8f6b0698",
   "metadata": {},
   "source": [
    "### Detecting and Handling Outliers"
   ]
  },
  {
   "cell_type": "code",
   "execution_count": 64,
   "id": "25afd355",
   "metadata": {
    "scrolled": true
   },
   "outputs": [
    {
     "data": {
      "text/html": [
       "<div>\n",
       "<style scoped>\n",
       "    .dataframe tbody tr th:only-of-type {\n",
       "        vertical-align: middle;\n",
       "    }\n",
       "\n",
       "    .dataframe tbody tr th {\n",
       "        vertical-align: top;\n",
       "    }\n",
       "\n",
       "    .dataframe thead th {\n",
       "        text-align: right;\n",
       "    }\n",
       "</style>\n",
       "<table border=\"1\" class=\"dataframe\">\n",
       "  <thead>\n",
       "    <tr style=\"text-align: right;\">\n",
       "      <th></th>\n",
       "      <th>a</th>\n",
       "      <th>e</th>\n",
       "      <th>i</th>\n",
       "      <th>om</th>\n",
       "      <th>w</th>\n",
       "      <th>q</th>\n",
       "      <th>ad</th>\n",
       "      <th>per_y</th>\n",
       "      <th>data_arc</th>\n",
       "      <th>condition_code</th>\n",
       "      <th>n_obs_used</th>\n",
       "      <th>H</th>\n",
       "      <th>diameter</th>\n",
       "      <th>moid</th>\n",
       "    </tr>\n",
       "  </thead>\n",
       "  <tbody>\n",
       "    <tr>\n",
       "      <th>count</th>\n",
       "      <td>136799.000000</td>\n",
       "      <td>136799.000000</td>\n",
       "      <td>136799.000000</td>\n",
       "      <td>136799.000000</td>\n",
       "      <td>136799.000000</td>\n",
       "      <td>136799.000000</td>\n",
       "      <td>136799.000000</td>\n",
       "      <td>136799.000000</td>\n",
       "      <td>136799.000000</td>\n",
       "      <td>136799.000000</td>\n",
       "      <td>136799.000000</td>\n",
       "      <td>136799.000000</td>\n",
       "      <td>136799.000000</td>\n",
       "      <td>136799.000000</td>\n",
       "    </tr>\n",
       "    <tr>\n",
       "      <th>mean</th>\n",
       "      <td>2.815888</td>\n",
       "      <td>0.145463</td>\n",
       "      <td>10.303347</td>\n",
       "      <td>169.803300</td>\n",
       "      <td>181.884334</td>\n",
       "      <td>2.403829</td>\n",
       "      <td>3.227947</td>\n",
       "      <td>4.888089</td>\n",
       "      <td>8956.946966</td>\n",
       "      <td>0.434097</td>\n",
       "      <td>663.578045</td>\n",
       "      <td>15.176059</td>\n",
       "      <td>5.500852</td>\n",
       "      <td>1.421257</td>\n",
       "    </tr>\n",
       "    <tr>\n",
       "      <th>std</th>\n",
       "      <td>1.526870</td>\n",
       "      <td>0.077461</td>\n",
       "      <td>6.798582</td>\n",
       "      <td>102.707099</td>\n",
       "      <td>103.555784</td>\n",
       "      <td>0.516640</td>\n",
       "      <td>2.904628</td>\n",
       "      <td>25.610338</td>\n",
       "      <td>6132.104613</td>\n",
       "      <td>1.859232</td>\n",
       "      <td>581.451742</td>\n",
       "      <td>1.407433</td>\n",
       "      <td>9.411398</td>\n",
       "      <td>0.512734</td>\n",
       "    </tr>\n",
       "    <tr>\n",
       "      <th>min</th>\n",
       "      <td>0.626226</td>\n",
       "      <td>0.000489</td>\n",
       "      <td>0.021855</td>\n",
       "      <td>0.000735</td>\n",
       "      <td>0.004466</td>\n",
       "      <td>0.081882</td>\n",
       "      <td>0.999956</td>\n",
       "      <td>0.495569</td>\n",
       "      <td>1.000000</td>\n",
       "      <td>0.000000</td>\n",
       "      <td>5.000000</td>\n",
       "      <td>3.200000</td>\n",
       "      <td>0.002500</td>\n",
       "      <td>0.000166</td>\n",
       "    </tr>\n",
       "    <tr>\n",
       "      <th>25%</th>\n",
       "      <td>2.538616</td>\n",
       "      <td>0.089683</td>\n",
       "      <td>5.099060</td>\n",
       "      <td>82.320868</td>\n",
       "      <td>91.883804</td>\n",
       "      <td>2.070107</td>\n",
       "      <td>2.866315</td>\n",
       "      <td>4.044861</td>\n",
       "      <td>6283.000000</td>\n",
       "      <td>0.000000</td>\n",
       "      <td>218.000000</td>\n",
       "      <td>14.400000</td>\n",
       "      <td>2.782000</td>\n",
       "      <td>1.083570</td>\n",
       "    </tr>\n",
       "    <tr>\n",
       "      <th>50%</th>\n",
       "      <td>2.751931</td>\n",
       "      <td>0.138552</td>\n",
       "      <td>9.351827</td>\n",
       "      <td>160.454411</td>\n",
       "      <td>183.642049</td>\n",
       "      <td>2.365466</td>\n",
       "      <td>3.168750</td>\n",
       "      <td>4.565250</td>\n",
       "      <td>7508.000000</td>\n",
       "      <td>0.000000</td>\n",
       "      <td>488.000000</td>\n",
       "      <td>15.300000</td>\n",
       "      <td>3.969000</td>\n",
       "      <td>1.386400</td>\n",
       "    </tr>\n",
       "    <tr>\n",
       "      <th>75%</th>\n",
       "      <td>3.092843</td>\n",
       "      <td>0.191057</td>\n",
       "      <td>13.684521</td>\n",
       "      <td>256.090771</td>\n",
       "      <td>271.735774</td>\n",
       "      <td>2.686515</td>\n",
       "      <td>3.469049</td>\n",
       "      <td>5.439325</td>\n",
       "      <td>9667.000000</td>\n",
       "      <td>0.000000</td>\n",
       "      <td>962.000000</td>\n",
       "      <td>16.100000</td>\n",
       "      <td>5.758000</td>\n",
       "      <td>1.700150</td>\n",
       "    </tr>\n",
       "    <tr>\n",
       "      <th>max</th>\n",
       "      <td>389.145964</td>\n",
       "      <td>0.984348</td>\n",
       "      <td>170.323647</td>\n",
       "      <td>359.990858</td>\n",
       "      <td>359.995174</td>\n",
       "      <td>40.465671</td>\n",
       "      <td>772.201080</td>\n",
       "      <td>7676.742943</td>\n",
       "      <td>72684.000000</td>\n",
       "      <td>9.000000</td>\n",
       "      <td>9325.000000</td>\n",
       "      <td>29.900000</td>\n",
       "      <td>939.400000</td>\n",
       "      <td>39.507000</td>\n",
       "    </tr>\n",
       "  </tbody>\n",
       "</table>\n",
       "</div>"
      ],
      "text/plain": [
       "                   a              e              i             om  \\\n",
       "count  136799.000000  136799.000000  136799.000000  136799.000000   \n",
       "mean        2.815888       0.145463      10.303347     169.803300   \n",
       "std         1.526870       0.077461       6.798582     102.707099   \n",
       "min         0.626226       0.000489       0.021855       0.000735   \n",
       "25%         2.538616       0.089683       5.099060      82.320868   \n",
       "50%         2.751931       0.138552       9.351827     160.454411   \n",
       "75%         3.092843       0.191057      13.684521     256.090771   \n",
       "max       389.145964       0.984348     170.323647     359.990858   \n",
       "\n",
       "                   w              q             ad          per_y  \\\n",
       "count  136799.000000  136799.000000  136799.000000  136799.000000   \n",
       "mean      181.884334       2.403829       3.227947       4.888089   \n",
       "std       103.555784       0.516640       2.904628      25.610338   \n",
       "min         0.004466       0.081882       0.999956       0.495569   \n",
       "25%        91.883804       2.070107       2.866315       4.044861   \n",
       "50%       183.642049       2.365466       3.168750       4.565250   \n",
       "75%       271.735774       2.686515       3.469049       5.439325   \n",
       "max       359.995174      40.465671     772.201080    7676.742943   \n",
       "\n",
       "            data_arc  condition_code     n_obs_used              H  \\\n",
       "count  136799.000000   136799.000000  136799.000000  136799.000000   \n",
       "mean     8956.946966        0.434097     663.578045      15.176059   \n",
       "std      6132.104613        1.859232     581.451742       1.407433   \n",
       "min         1.000000        0.000000       5.000000       3.200000   \n",
       "25%      6283.000000        0.000000     218.000000      14.400000   \n",
       "50%      7508.000000        0.000000     488.000000      15.300000   \n",
       "75%      9667.000000        0.000000     962.000000      16.100000   \n",
       "max     72684.000000        9.000000    9325.000000      29.900000   \n",
       "\n",
       "            diameter           moid  \n",
       "count  136799.000000  136799.000000  \n",
       "mean        5.500852       1.421257  \n",
       "std         9.411398       0.512734  \n",
       "min         0.002500       0.000166  \n",
       "25%         2.782000       1.083570  \n",
       "50%         3.969000       1.386400  \n",
       "75%         5.758000       1.700150  \n",
       "max       939.400000      39.507000  "
      ]
     },
     "execution_count": 64,
     "metadata": {},
     "output_type": "execute_result"
    }
   ],
   "source": [
    "cleaned_df.describe()"
   ]
  },
  {
   "cell_type": "code",
   "execution_count": 66,
   "id": "0a01c5aa",
   "metadata": {
    "scrolled": true
   },
   "outputs": [
    {
     "data": {
      "text/html": [
       "<div>\n",
       "<style scoped>\n",
       "    .dataframe tbody tr th:only-of-type {\n",
       "        vertical-align: middle;\n",
       "    }\n",
       "\n",
       "    .dataframe tbody tr th {\n",
       "        vertical-align: top;\n",
       "    }\n",
       "\n",
       "    .dataframe thead th {\n",
       "        text-align: right;\n",
       "    }\n",
       "</style>\n",
       "<table border=\"1\" class=\"dataframe\">\n",
       "  <thead>\n",
       "    <tr style=\"text-align: right;\">\n",
       "      <th></th>\n",
       "      <th>a</th>\n",
       "      <th>e</th>\n",
       "      <th>i</th>\n",
       "      <th>om</th>\n",
       "      <th>w</th>\n",
       "      <th>q</th>\n",
       "      <th>ad</th>\n",
       "      <th>per_y</th>\n",
       "      <th>data_arc</th>\n",
       "      <th>condition_code</th>\n",
       "      <th>n_obs_used</th>\n",
       "      <th>H</th>\n",
       "      <th>diameter</th>\n",
       "      <th>moid</th>\n",
       "    </tr>\n",
       "  </thead>\n",
       "  <tbody>\n",
       "    <tr>\n",
       "      <th>0</th>\n",
       "      <td>2.769165</td>\n",
       "      <td>0.076009</td>\n",
       "      <td>10.594067</td>\n",
       "      <td>80.305532</td>\n",
       "      <td>73.597694</td>\n",
       "      <td>2.558684</td>\n",
       "      <td>2.979647</td>\n",
       "      <td>4.608202</td>\n",
       "      <td>8822.0</td>\n",
       "      <td>0</td>\n",
       "      <td>1002</td>\n",
       "      <td>3.34</td>\n",
       "      <td>939.400</td>\n",
       "      <td>1.59478</td>\n",
       "    </tr>\n",
       "    <tr>\n",
       "      <th>1</th>\n",
       "      <td>2.772466</td>\n",
       "      <td>0.230337</td>\n",
       "      <td>34.836234</td>\n",
       "      <td>173.080063</td>\n",
       "      <td>310.048857</td>\n",
       "      <td>2.133865</td>\n",
       "      <td>3.411067</td>\n",
       "      <td>4.616444</td>\n",
       "      <td>72318.0</td>\n",
       "      <td>0</td>\n",
       "      <td>8490</td>\n",
       "      <td>4.13</td>\n",
       "      <td>545.000</td>\n",
       "      <td>1.23324</td>\n",
       "    </tr>\n",
       "    <tr>\n",
       "      <th>2</th>\n",
       "      <td>2.669150</td>\n",
       "      <td>0.256942</td>\n",
       "      <td>12.988919</td>\n",
       "      <td>169.852760</td>\n",
       "      <td>248.138626</td>\n",
       "      <td>1.983332</td>\n",
       "      <td>3.354967</td>\n",
       "      <td>4.360814</td>\n",
       "      <td>72684.0</td>\n",
       "      <td>0</td>\n",
       "      <td>7104</td>\n",
       "      <td>5.33</td>\n",
       "      <td>246.596</td>\n",
       "      <td>1.03454</td>\n",
       "    </tr>\n",
       "    <tr>\n",
       "      <th>3</th>\n",
       "      <td>2.361418</td>\n",
       "      <td>0.088721</td>\n",
       "      <td>7.141771</td>\n",
       "      <td>103.810804</td>\n",
       "      <td>150.728541</td>\n",
       "      <td>2.151909</td>\n",
       "      <td>2.570926</td>\n",
       "      <td>3.628837</td>\n",
       "      <td>24288.0</td>\n",
       "      <td>0</td>\n",
       "      <td>9325</td>\n",
       "      <td>3.20</td>\n",
       "      <td>525.400</td>\n",
       "      <td>1.13948</td>\n",
       "    </tr>\n",
       "    <tr>\n",
       "      <th>4</th>\n",
       "      <td>2.574249</td>\n",
       "      <td>0.191095</td>\n",
       "      <td>5.366988</td>\n",
       "      <td>141.576604</td>\n",
       "      <td>358.687608</td>\n",
       "      <td>2.082324</td>\n",
       "      <td>3.066174</td>\n",
       "      <td>4.130323</td>\n",
       "      <td>63431.0</td>\n",
       "      <td>0</td>\n",
       "      <td>2861</td>\n",
       "      <td>6.85</td>\n",
       "      <td>106.699</td>\n",
       "      <td>1.09589</td>\n",
       "    </tr>\n",
       "  </tbody>\n",
       "</table>\n",
       "</div>"
      ],
      "text/plain": [
       "          a         e          i          om           w         q        ad  \\\n",
       "0  2.769165  0.076009  10.594067   80.305532   73.597694  2.558684  2.979647   \n",
       "1  2.772466  0.230337  34.836234  173.080063  310.048857  2.133865  3.411067   \n",
       "2  2.669150  0.256942  12.988919  169.852760  248.138626  1.983332  3.354967   \n",
       "3  2.361418  0.088721   7.141771  103.810804  150.728541  2.151909  2.570926   \n",
       "4  2.574249  0.191095   5.366988  141.576604  358.687608  2.082324  3.066174   \n",
       "\n",
       "      per_y  data_arc  condition_code  n_obs_used     H  diameter     moid  \n",
       "0  4.608202    8822.0               0        1002  3.34   939.400  1.59478  \n",
       "1  4.616444   72318.0               0        8490  4.13   545.000  1.23324  \n",
       "2  4.360814   72684.0               0        7104  5.33   246.596  1.03454  \n",
       "3  3.628837   24288.0               0        9325  3.20   525.400  1.13948  \n",
       "4  4.130323   63431.0               0        2861  6.85   106.699  1.09589  "
      ]
     },
     "execution_count": 66,
     "metadata": {},
     "output_type": "execute_result"
    }
   ],
   "source": [
    "numerics = ['int16', 'int32', 'int64', 'float16', 'float32', 'float64']\n",
    "num_data = cleaned_df.select_dtypes(include=numerics)\n",
    "num_data.head()"
   ]
  },
  {
   "cell_type": "code",
   "execution_count": 75,
   "id": "7828ff2c",
   "metadata": {},
   "outputs": [
    {
     "data": {
      "text/plain": [
       "a                    0.554228\n",
       "e                    0.101374\n",
       "i                    8.585461\n",
       "om                 173.769903\n",
       "w                  179.851970\n",
       "q                    0.616408\n",
       "ad                   0.602733\n",
       "per_y                1.394464\n",
       "data_arc          3384.000000\n",
       "condition_code       0.000000\n",
       "n_obs_used         744.000000\n",
       "H                    1.700000\n",
       "diameter             2.976000\n",
       "moid                 0.616580\n",
       "dtype: float64"
      ]
     },
     "execution_count": 75,
     "metadata": {},
     "output_type": "execute_result"
    }
   ],
   "source": [
    "Q1 = num_data.quantile(0.25)\n",
    "Q3 =num_data.quantile(0.75)\n",
    "IQR = Q3-Q1\n",
    "IQR"
   ]
  },
  {
   "cell_type": "code",
   "execution_count": 110,
   "id": "92d7dd0b",
   "metadata": {},
   "outputs": [
    {
     "name": "stdout",
     "output_type": "stream",
     "text": [
      "IQR value for column a is: 0.5542275791564508\n",
      "IQR value for column q is: 0.6025733541090594\n",
      "IQR value for column data_arc is: 3372.0\n",
      "IQR value for column n_obs_used is: 613.0\n",
      "IQR value for column H is: 1.4000000000000021\n",
      "IQR value for column diameter is: 2.5482500000000003\n",
      "IQR value for column moid is: 0.58823\n"
     ]
    }
   ],
   "source": [
    "# outliers\n",
    "def removeOutliers(data, col):\n",
    "    Q3 = np.quantile(data[col], 0.75)\n",
    "    Q1 = np.quantile(data[col], 0.25)\n",
    "    IQR = Q3 - Q1\n",
    "    if IQR > 0:\n",
    "        print(\"IQR value for column %s is: %s\" % (col, IQR))\n",
    "        global outlier_free_list\n",
    "        global filtered_data\n",
    "\n",
    "        lower_range = Q1 - 1.5 * IQR\n",
    "        upper_range = Q3 + 1.5 * IQR\n",
    "        outlier_free_list = [x for x in data[col] if (\n",
    "            (x > lower_range) & (x < upper_range))]\n",
    "        filtered_data = data.loc[data[col].isin(outlier_free_list)]\n",
    "\n",
    "for i in num_data.columns:\n",
    "    if i == num_data.columns[0]:\n",
    "      removeOutliers(num_data, i)\n",
    "    else:\n",
    "      removeOutliers(filtered_data, i)\n",
    " "
   ]
  },
  {
   "cell_type": "code",
   "execution_count": 90,
   "id": "e262ac93",
   "metadata": {},
   "outputs": [
    {
     "data": {
      "text/plain": [
       "(102544, 14)"
      ]
     },
     "execution_count": 90,
     "metadata": {},
     "output_type": "execute_result"
    }
   ],
   "source": [
    "filtered_data.shape"
   ]
  },
  {
   "cell_type": "markdown",
   "id": "12311e2c",
   "metadata": {},
   "source": [
    "### Visualization"
   ]
  },
  {
   "cell_type": "markdown",
   "id": "97635dfd",
   "metadata": {},
   "source": [
    "#### Feature Selection"
   ]
  },
  {
   "cell_type": "code",
   "execution_count": 63,
   "id": "3e6dc9e3",
   "metadata": {},
   "outputs": [
    {
     "data": {
      "text/html": [
       "<div>\n",
       "<style scoped>\n",
       "    .dataframe tbody tr th:only-of-type {\n",
       "        vertical-align: middle;\n",
       "    }\n",
       "\n",
       "    .dataframe tbody tr th {\n",
       "        vertical-align: top;\n",
       "    }\n",
       "\n",
       "    .dataframe thead th {\n",
       "        text-align: right;\n",
       "    }\n",
       "</style>\n",
       "<table border=\"1\" class=\"dataframe\">\n",
       "  <thead>\n",
       "    <tr style=\"text-align: right;\">\n",
       "      <th></th>\n",
       "      <th>full_name</th>\n",
       "      <th>a</th>\n",
       "      <th>e</th>\n",
       "      <th>i</th>\n",
       "      <th>om</th>\n",
       "      <th>w</th>\n",
       "      <th>q</th>\n",
       "      <th>ad</th>\n",
       "      <th>per_y</th>\n",
       "      <th>data_arc</th>\n",
       "      <th>condition_code</th>\n",
       "      <th>n_obs_used</th>\n",
       "      <th>H</th>\n",
       "      <th>diameter</th>\n",
       "      <th>neo</th>\n",
       "      <th>pha</th>\n",
       "      <th>moid</th>\n",
       "    </tr>\n",
       "  </thead>\n",
       "  <tbody>\n",
       "    <tr>\n",
       "      <th>0</th>\n",
       "      <td>1 Ceres</td>\n",
       "      <td>2.769165</td>\n",
       "      <td>0.076009</td>\n",
       "      <td>10.594067</td>\n",
       "      <td>80.305532</td>\n",
       "      <td>73.597694</td>\n",
       "      <td>2.558684</td>\n",
       "      <td>2.979647</td>\n",
       "      <td>4.608202</td>\n",
       "      <td>8822.0</td>\n",
       "      <td>0</td>\n",
       "      <td>1002</td>\n",
       "      <td>3.34</td>\n",
       "      <td>939.400</td>\n",
       "      <td>N</td>\n",
       "      <td>N</td>\n",
       "      <td>1.59478</td>\n",
       "    </tr>\n",
       "    <tr>\n",
       "      <th>1</th>\n",
       "      <td>2 Pallas</td>\n",
       "      <td>2.772466</td>\n",
       "      <td>0.230337</td>\n",
       "      <td>34.836234</td>\n",
       "      <td>173.080063</td>\n",
       "      <td>310.048857</td>\n",
       "      <td>2.133865</td>\n",
       "      <td>3.411067</td>\n",
       "      <td>4.616444</td>\n",
       "      <td>72318.0</td>\n",
       "      <td>0</td>\n",
       "      <td>8490</td>\n",
       "      <td>4.13</td>\n",
       "      <td>545.000</td>\n",
       "      <td>N</td>\n",
       "      <td>N</td>\n",
       "      <td>1.23324</td>\n",
       "    </tr>\n",
       "    <tr>\n",
       "      <th>2</th>\n",
       "      <td>3 Juno</td>\n",
       "      <td>2.669150</td>\n",
       "      <td>0.256942</td>\n",
       "      <td>12.988919</td>\n",
       "      <td>169.852760</td>\n",
       "      <td>248.138626</td>\n",
       "      <td>1.983332</td>\n",
       "      <td>3.354967</td>\n",
       "      <td>4.360814</td>\n",
       "      <td>72684.0</td>\n",
       "      <td>0</td>\n",
       "      <td>7104</td>\n",
       "      <td>5.33</td>\n",
       "      <td>246.596</td>\n",
       "      <td>N</td>\n",
       "      <td>N</td>\n",
       "      <td>1.03454</td>\n",
       "    </tr>\n",
       "    <tr>\n",
       "      <th>3</th>\n",
       "      <td>4 Vesta</td>\n",
       "      <td>2.361418</td>\n",
       "      <td>0.088721</td>\n",
       "      <td>7.141771</td>\n",
       "      <td>103.810804</td>\n",
       "      <td>150.728541</td>\n",
       "      <td>2.151909</td>\n",
       "      <td>2.570926</td>\n",
       "      <td>3.628837</td>\n",
       "      <td>24288.0</td>\n",
       "      <td>0</td>\n",
       "      <td>9325</td>\n",
       "      <td>3.20</td>\n",
       "      <td>525.400</td>\n",
       "      <td>N</td>\n",
       "      <td>N</td>\n",
       "      <td>1.13948</td>\n",
       "    </tr>\n",
       "    <tr>\n",
       "      <th>4</th>\n",
       "      <td>5 Astraea</td>\n",
       "      <td>2.574249</td>\n",
       "      <td>0.191095</td>\n",
       "      <td>5.366988</td>\n",
       "      <td>141.576604</td>\n",
       "      <td>358.687608</td>\n",
       "      <td>2.082324</td>\n",
       "      <td>3.066174</td>\n",
       "      <td>4.130323</td>\n",
       "      <td>63431.0</td>\n",
       "      <td>0</td>\n",
       "      <td>2861</td>\n",
       "      <td>6.85</td>\n",
       "      <td>106.699</td>\n",
       "      <td>N</td>\n",
       "      <td>N</td>\n",
       "      <td>1.09589</td>\n",
       "    </tr>\n",
       "  </tbody>\n",
       "</table>\n",
       "</div>"
      ],
      "text/plain": [
       "        full_name         a         e          i          om           w  \\\n",
       "0         1 Ceres  2.769165  0.076009  10.594067   80.305532   73.597694   \n",
       "1        2 Pallas  2.772466  0.230337  34.836234  173.080063  310.048857   \n",
       "2          3 Juno  2.669150  0.256942  12.988919  169.852760  248.138626   \n",
       "3         4 Vesta  2.361418  0.088721   7.141771  103.810804  150.728541   \n",
       "4       5 Astraea  2.574249  0.191095   5.366988  141.576604  358.687608   \n",
       "\n",
       "          q        ad     per_y  data_arc  condition_code  n_obs_used     H  \\\n",
       "0  2.558684  2.979647  4.608202    8822.0               0        1002  3.34   \n",
       "1  2.133865  3.411067  4.616444   72318.0               0        8490  4.13   \n",
       "2  1.983332  3.354967  4.360814   72684.0               0        7104  5.33   \n",
       "3  2.151909  2.570926  3.628837   24288.0               0        9325  3.20   \n",
       "4  2.082324  3.066174  4.130323   63431.0               0        2861  6.85   \n",
       "\n",
       "   diameter neo pha     moid  \n",
       "0   939.400   N   N  1.59478  \n",
       "1   545.000   N   N  1.23324  \n",
       "2   246.596   N   N  1.03454  \n",
       "3   525.400   N   N  1.13948  \n",
       "4   106.699   N   N  1.09589  "
      ]
     },
     "execution_count": 63,
     "metadata": {},
     "output_type": "execute_result"
    }
   ],
   "source": [
    "#getting the heat map to check the correlation between the numerical variables\n",
    "cleaned_df.head()"
   ]
  },
  {
   "cell_type": "code",
   "execution_count": 72,
   "id": "fdbc4b7b",
   "metadata": {},
   "outputs": [
    {
     "data": {
      "image/png": "[encoded data removed]",
      "text/plain": [
       "<Figure size 1080x864 with 2 Axes>"
      ]
     },
     "metadata": {
      "needs_background": "light"
     },
     "output_type": "display_data"
    }
   ],
   "source": [
    "correlation=num_data.corr()\n",
    "plt.subplots(figsize=(15,12))\n",
    "sns.heatmap(correlation,annot=True,annot_kws={'size':10})\n",
    "plt.title(\"Heatmap to show the correlation between the numerical variables\", fontsize=20)\n",
    "plt.savefig(\"heamap.jpg\")"
   ]
  },
  {
   "cell_type": "markdown",
   "id": "c19d1432",
   "metadata": {},
   "source": [
    "From the heatmap we can see that a, q, ad, per_y,moid, per: all these features are strongly correlated. similarly, \n",
    "H is the only variable is positively correlated with diameter. However, rot_per, e,i, w and om are less correlated with the diameter."
   ]
  },
  {
   "cell_type": "code",
   "execution_count": 112,
   "id": "b468247c",
   "metadata": {},
   "outputs": [
    {
     "data": {
      "text/plain": [
       "(136799, 10)"
      ]
     },
     "execution_count": 112,
     "metadata": {},
     "output_type": "execute_result"
    }
   ],
   "source": [
    "# Dropping the columns with low correlation\n",
    "cleaned_df.drop(['om', 'w', 'per_y', 'e', 'i', 'condition_code', 'ad'],axis=1, inplace=True)\n",
    "cleaned_df.shape"
   ]
  },
  {
   "cell_type": "code",
   "execution_count": 93,
   "id": "d0349464",
   "metadata": {},
   "outputs": [
    {
     "data": {
      "image/png": "[encoded data removed]",
      "text/plain": [
       "<Figure size 432x288 with 1 Axes>"
      ]
     },
     "metadata": {},
     "output_type": "display_data"
    }
   ],
   "source": [
    "sns.set_style('darkgrid')\n",
    "\n",
    "plt.scatter(num_data.data_arc , num_data.diameter)\n",
    "plt.xlabel('data_arc')\n",
    "plt.ylabel('Diameter')\n",
    "plt.title('PLOT')\n",
    "plt.show()"
   ]
  },
  {
   "cell_type": "code",
   "execution_count": 98,
   "id": "606bb3ee",
   "metadata": {},
   "outputs": [
    {
     "data": {
      "image/png": "[encoded data removed]",
      "text/plain": [
       "<Figure size 432x288 with 1 Axes>"
      ]
     },
     "metadata": {},
     "output_type": "display_data"
    }
   ],
   "source": [
    "sns.set_style('darkgrid')\n",
    "\n",
    "sns.regplot(x=\"data_arc\",y=\"diameter\",data=num_data)\n",
    "plt.xlabel('data_arc')\n",
    "plt.ylabel('Diameter')\n",
    "plt.title('Regression PLOT')\n",
    "plt.show()"
   ]
  },
  {
   "cell_type": "code",
   "execution_count": 103,
   "id": "a8d2a2e7",
   "metadata": {},
   "outputs": [
    {
     "data": {
      "image/png": "[encoded data removed]",
      "text/plain": [
       "<Figure size 432x288 with 1 Axes>"
      ]
     },
     "metadata": {},
     "output_type": "display_data"
    }
   ],
   "source": [
    "plt.scatter(num_data.H , num_data.diameter)\n",
    "plt.xlabel('H')\n",
    "plt.ylabel('Diameter')\n",
    "plt.title('PLOT')\n",
    "plt.show()"
   ]
  },
  {
   "cell_type": "markdown",
   "id": "d002649a",
   "metadata": {},
   "source": [
    "### Handling Categorical Columns"
   ]
  },
  {
   "cell_type": "code",
   "execution_count": 113,
   "id": "69d9e0dc",
   "metadata": {},
   "outputs": [],
   "source": [
    "cleaned_df.drop(['full_name'], axis =1 , inplace = True)"
   ]
  },
  {
   "cell_type": "code",
   "execution_count": 116,
   "id": "8fefcfc0",
   "metadata": {
    "scrolled": true
   },
   "outputs": [
    {
     "data": {
      "text/html": [
       "<div>\n",
       "<style scoped>\n",
       "    .dataframe tbody tr th:only-of-type {\n",
       "        vertical-align: middle;\n",
       "    }\n",
       "\n",
       "    .dataframe tbody tr th {\n",
       "        vertical-align: top;\n",
       "    }\n",
       "\n",
       "    .dataframe thead th {\n",
       "        text-align: right;\n",
       "    }\n",
       "</style>\n",
       "<table border=\"1\" class=\"dataframe\">\n",
       "  <thead>\n",
       "    <tr style=\"text-align: right;\">\n",
       "      <th></th>\n",
       "      <th>neo</th>\n",
       "      <th>pha</th>\n",
       "    </tr>\n",
       "  </thead>\n",
       "  <tbody>\n",
       "    <tr>\n",
       "      <th>0</th>\n",
       "      <td>N</td>\n",
       "      <td>N</td>\n",
       "    </tr>\n",
       "    <tr>\n",
       "      <th>1</th>\n",
       "      <td>N</td>\n",
       "      <td>N</td>\n",
       "    </tr>\n",
       "    <tr>\n",
       "      <th>2</th>\n",
       "      <td>N</td>\n",
       "      <td>N</td>\n",
       "    </tr>\n",
       "    <tr>\n",
       "      <th>3</th>\n",
       "      <td>N</td>\n",
       "      <td>N</td>\n",
       "    </tr>\n",
       "    <tr>\n",
       "      <th>4</th>\n",
       "      <td>N</td>\n",
       "      <td>N</td>\n",
       "    </tr>\n",
       "  </tbody>\n",
       "</table>\n",
       "</div>"
      ],
      "text/plain": [
       "  neo pha\n",
       "0   N   N\n",
       "1   N   N\n",
       "2   N   N\n",
       "3   N   N\n",
       "4   N   N"
      ]
     },
     "execution_count": 116,
     "metadata": {},
     "output_type": "execute_result"
    }
   ],
   "source": [
    "categoricalData = cleaned_df.select_dtypes(include=['object']).copy()\n",
    "categoricalData.head(5)"
   ]
  },
  {
   "cell_type": "code",
   "execution_count": 123,
   "id": "3a7a1fb1",
   "metadata": {},
   "outputs": [
    {
     "data": {
      "text/plain": [
       "array(['N', 'Y'], dtype=object)"
      ]
     },
     "execution_count": 123,
     "metadata": {},
     "output_type": "execute_result"
    }
   ],
   "source": [
    "categoricalData.neo.unique()"
   ]
  },
  {
   "cell_type": "markdown",
   "id": "ef73e041",
   "metadata": {},
   "source": [
    "### OneHotEncoding"
   ]
  },
  {
   "cell_type": "code",
   "execution_count": 135,
   "id": "85d9ceed",
   "metadata": {},
   "outputs": [
    {
     "data": {
      "text/plain": [
       "array([0, 1], dtype=uint8)"
      ]
     },
     "execution_count": 135,
     "metadata": {},
     "output_type": "execute_result"
    }
   ],
   "source": [
    "new_cols = pd.get_dummies(categoricalData, columns=['neo','pha'], drop_first=True)\n",
    "new_cols.neo_Y.unique()"
   ]
  },
  {
   "cell_type": "code",
   "execution_count": 136,
   "id": "9e02660e",
   "metadata": {},
   "outputs": [
    {
     "data": {
      "text/html": [
       "<div>\n",
       "<style scoped>\n",
       "    .dataframe tbody tr th:only-of-type {\n",
       "        vertical-align: middle;\n",
       "    }\n",
       "\n",
       "    .dataframe tbody tr th {\n",
       "        vertical-align: top;\n",
       "    }\n",
       "\n",
       "    .dataframe thead th {\n",
       "        text-align: right;\n",
       "    }\n",
       "</style>\n",
       "<table border=\"1\" class=\"dataframe\">\n",
       "  <thead>\n",
       "    <tr style=\"text-align: right;\">\n",
       "      <th></th>\n",
       "      <th>a</th>\n",
       "      <th>q</th>\n",
       "      <th>data_arc</th>\n",
       "      <th>n_obs_used</th>\n",
       "      <th>H</th>\n",
       "      <th>diameter</th>\n",
       "      <th>neo</th>\n",
       "      <th>pha</th>\n",
       "      <th>moid</th>\n",
       "      <th>neo_Y</th>\n",
       "      <th>pha_Y</th>\n",
       "    </tr>\n",
       "  </thead>\n",
       "  <tbody>\n",
       "    <tr>\n",
       "      <th>0</th>\n",
       "      <td>2.769165</td>\n",
       "      <td>2.558684</td>\n",
       "      <td>8822.0</td>\n",
       "      <td>1002</td>\n",
       "      <td>3.34</td>\n",
       "      <td>939.400</td>\n",
       "      <td>N</td>\n",
       "      <td>N</td>\n",
       "      <td>1.59478</td>\n",
       "      <td>0</td>\n",
       "      <td>0</td>\n",
       "    </tr>\n",
       "    <tr>\n",
       "      <th>1</th>\n",
       "      <td>2.772466</td>\n",
       "      <td>2.133865</td>\n",
       "      <td>72318.0</td>\n",
       "      <td>8490</td>\n",
       "      <td>4.13</td>\n",
       "      <td>545.000</td>\n",
       "      <td>N</td>\n",
       "      <td>N</td>\n",
       "      <td>1.23324</td>\n",
       "      <td>0</td>\n",
       "      <td>0</td>\n",
       "    </tr>\n",
       "    <tr>\n",
       "      <th>2</th>\n",
       "      <td>2.669150</td>\n",
       "      <td>1.983332</td>\n",
       "      <td>72684.0</td>\n",
       "      <td>7104</td>\n",
       "      <td>5.33</td>\n",
       "      <td>246.596</td>\n",
       "      <td>N</td>\n",
       "      <td>N</td>\n",
       "      <td>1.03454</td>\n",
       "      <td>0</td>\n",
       "      <td>0</td>\n",
       "    </tr>\n",
       "    <tr>\n",
       "      <th>3</th>\n",
       "      <td>2.361418</td>\n",
       "      <td>2.151909</td>\n",
       "      <td>24288.0</td>\n",
       "      <td>9325</td>\n",
       "      <td>3.20</td>\n",
       "      <td>525.400</td>\n",
       "      <td>N</td>\n",
       "      <td>N</td>\n",
       "      <td>1.13948</td>\n",
       "      <td>0</td>\n",
       "      <td>0</td>\n",
       "    </tr>\n",
       "    <tr>\n",
       "      <th>4</th>\n",
       "      <td>2.574249</td>\n",
       "      <td>2.082324</td>\n",
       "      <td>63431.0</td>\n",
       "      <td>2861</td>\n",
       "      <td>6.85</td>\n",
       "      <td>106.699</td>\n",
       "      <td>N</td>\n",
       "      <td>N</td>\n",
       "      <td>1.09589</td>\n",
       "      <td>0</td>\n",
       "      <td>0</td>\n",
       "    </tr>\n",
       "  </tbody>\n",
       "</table>\n",
       "</div>"
      ],
      "text/plain": [
       "          a         q  data_arc  n_obs_used     H  diameter neo pha     moid  \\\n",
       "0  2.769165  2.558684    8822.0        1002  3.34   939.400   N   N  1.59478   \n",
       "1  2.772466  2.133865   72318.0        8490  4.13   545.000   N   N  1.23324   \n",
       "2  2.669150  1.983332   72684.0        7104  5.33   246.596   N   N  1.03454   \n",
       "3  2.361418  2.151909   24288.0        9325  3.20   525.400   N   N  1.13948   \n",
       "4  2.574249  2.082324   63431.0        2861  6.85   106.699   N   N  1.09589   \n",
       "\n",
       "   neo_Y  pha_Y  \n",
       "0      0      0  \n",
       "1      0      0  \n",
       "2      0      0  \n",
       "3      0      0  \n",
       "4      0      0  "
      ]
     },
     "execution_count": 136,
     "metadata": {},
     "output_type": "execute_result"
    }
   ],
   "source": [
    "#concatenating the dataframes\n",
    "new_df = pd.concat([cleaned_df,new_cols],axis = 1)\n",
    "new_df.head()"
   ]
  },
  {
   "cell_type": "code",
   "execution_count": 137,
   "id": "2d960d7e",
   "metadata": {
    "scrolled": true
   },
   "outputs": [
    {
     "data": {
      "text/html": [
       "<div>\n",
       "<style scoped>\n",
       "    .dataframe tbody tr th:only-of-type {\n",
       "        vertical-align: middle;\n",
       "    }\n",
       "\n",
       "    .dataframe tbody tr th {\n",
       "        vertical-align: top;\n",
       "    }\n",
       "\n",
       "    .dataframe thead th {\n",
       "        text-align: right;\n",
       "    }\n",
       "</style>\n",
       "<table border=\"1\" class=\"dataframe\">\n",
       "  <thead>\n",
       "    <tr style=\"text-align: right;\">\n",
       "      <th></th>\n",
       "      <th>a</th>\n",
       "      <th>q</th>\n",
       "      <th>data_arc</th>\n",
       "      <th>n_obs_used</th>\n",
       "      <th>H</th>\n",
       "      <th>diameter</th>\n",
       "      <th>moid</th>\n",
       "      <th>neo_Y</th>\n",
       "      <th>pha_Y</th>\n",
       "    </tr>\n",
       "  </thead>\n",
       "  <tbody>\n",
       "    <tr>\n",
       "      <th>0</th>\n",
       "      <td>2.769165</td>\n",
       "      <td>2.558684</td>\n",
       "      <td>8822.0</td>\n",
       "      <td>1002</td>\n",
       "      <td>3.34</td>\n",
       "      <td>939.400</td>\n",
       "      <td>1.59478</td>\n",
       "      <td>0</td>\n",
       "      <td>0</td>\n",
       "    </tr>\n",
       "    <tr>\n",
       "      <th>1</th>\n",
       "      <td>2.772466</td>\n",
       "      <td>2.133865</td>\n",
       "      <td>72318.0</td>\n",
       "      <td>8490</td>\n",
       "      <td>4.13</td>\n",
       "      <td>545.000</td>\n",
       "      <td>1.23324</td>\n",
       "      <td>0</td>\n",
       "      <td>0</td>\n",
       "    </tr>\n",
       "    <tr>\n",
       "      <th>2</th>\n",
       "      <td>2.669150</td>\n",
       "      <td>1.983332</td>\n",
       "      <td>72684.0</td>\n",
       "      <td>7104</td>\n",
       "      <td>5.33</td>\n",
       "      <td>246.596</td>\n",
       "      <td>1.03454</td>\n",
       "      <td>0</td>\n",
       "      <td>0</td>\n",
       "    </tr>\n",
       "    <tr>\n",
       "      <th>3</th>\n",
       "      <td>2.361418</td>\n",
       "      <td>2.151909</td>\n",
       "      <td>24288.0</td>\n",
       "      <td>9325</td>\n",
       "      <td>3.20</td>\n",
       "      <td>525.400</td>\n",
       "      <td>1.13948</td>\n",
       "      <td>0</td>\n",
       "      <td>0</td>\n",
       "    </tr>\n",
       "    <tr>\n",
       "      <th>4</th>\n",
       "      <td>2.574249</td>\n",
       "      <td>2.082324</td>\n",
       "      <td>63431.0</td>\n",
       "      <td>2861</td>\n",
       "      <td>6.85</td>\n",
       "      <td>106.699</td>\n",
       "      <td>1.09589</td>\n",
       "      <td>0</td>\n",
       "      <td>0</td>\n",
       "    </tr>\n",
       "  </tbody>\n",
       "</table>\n",
       "</div>"
      ],
      "text/plain": [
       "          a         q  data_arc  n_obs_used     H  diameter     moid  neo_Y  \\\n",
       "0  2.769165  2.558684    8822.0        1002  3.34   939.400  1.59478      0   \n",
       "1  2.772466  2.133865   72318.0        8490  4.13   545.000  1.23324      0   \n",
       "2  2.669150  1.983332   72684.0        7104  5.33   246.596  1.03454      0   \n",
       "3  2.361418  2.151909   24288.0        9325  3.20   525.400  1.13948      0   \n",
       "4  2.574249  2.082324   63431.0        2861  6.85   106.699  1.09589      0   \n",
       "\n",
       "   pha_Y  \n",
       "0      0  \n",
       "1      0  \n",
       "2      0  \n",
       "3      0  \n",
       "4      0  "
      ]
     },
     "execution_count": 137,
     "metadata": {},
     "output_type": "execute_result"
    }
   ],
   "source": [
    "#dcropping the categorical variables neo and pha after changing to numerical\n",
    "new_df = new_df.drop(['neo' , 'pha'], axis = 1)\n",
    "new_df.head()"
   ]
  },
  {
   "cell_type": "markdown",
   "id": "c8fe2c68",
   "metadata": {},
   "source": [
    "### Removing Outliers (using z score)"
   ]
  },
  {
   "cell_type": "code",
   "execution_count": 138,
   "id": "938e9128",
   "metadata": {},
   "outputs": [
    {
     "name": "stdout",
     "output_type": "stream",
     "text": [
      "Number of outliers :  5992\n"
     ]
    }
   ],
   "source": [
    "from scipy import stats\n",
    "\n",
    "total_outliers = len(new_df)- len(new_df[(np.abs(stats.zscore(new_df)) < 3).all(axis=1)])\n",
    "\n",
    "print(\"Number of outliers : \" , total_outliers)"
   ]
  },
  {
   "cell_type": "code",
   "execution_count": 139,
   "id": "7a759a15",
   "metadata": {},
   "outputs": [
    {
     "data": {
      "text/plain": [
       "(130807, 9)"
      ]
     },
     "execution_count": 139,
     "metadata": {},
     "output_type": "execute_result"
    }
   ],
   "source": [
    "new_df = pd.DataFrame(new_df[(np.abs(stats.zscore(new_df)) < 3).all(axis=1)])\n",
    "new_df.shape"
   ]
  },
  {
   "cell_type": "markdown",
   "id": "c4fd79ff",
   "metadata": {},
   "source": [
    "### Scaling the data"
   ]
  },
  {
   "cell_type": "code",
   "execution_count": 140,
   "id": "07d2e1b2",
   "metadata": {
    "scrolled": true
   },
   "outputs": [
    {
     "data": {
      "text/html": [
       "<div>\n",
       "<style scoped>\n",
       "    .dataframe tbody tr th:only-of-type {\n",
       "        vertical-align: middle;\n",
       "    }\n",
       "\n",
       "    .dataframe tbody tr th {\n",
       "        vertical-align: top;\n",
       "    }\n",
       "\n",
       "    .dataframe thead th {\n",
       "        text-align: right;\n",
       "    }\n",
       "</style>\n",
       "<table border=\"1\" class=\"dataframe\">\n",
       "  <thead>\n",
       "    <tr style=\"text-align: right;\">\n",
       "      <th></th>\n",
       "      <th>a</th>\n",
       "      <th>q</th>\n",
       "      <th>data_arc</th>\n",
       "      <th>n_obs_used</th>\n",
       "      <th>H</th>\n",
       "      <th>diameter</th>\n",
       "      <th>moid</th>\n",
       "      <th>neo_Y</th>\n",
       "      <th>pha_Y</th>\n",
       "    </tr>\n",
       "  </thead>\n",
       "  <tbody>\n",
       "    <tr>\n",
       "      <th>0</th>\n",
       "      <td>-1.538299</td>\n",
       "      <td>-1.243929</td>\n",
       "      <td>3.662787</td>\n",
       "      <td>3.164093</td>\n",
       "      <td>-2.406019</td>\n",
       "      <td>0.788395</td>\n",
       "      <td>-1.218612</td>\n",
       "      <td>0.0</td>\n",
       "      <td>0.0</td>\n",
       "    </tr>\n",
       "    <tr>\n",
       "      <th>1</th>\n",
       "      <td>-1.179186</td>\n",
       "      <td>-1.202080</td>\n",
       "      <td>3.411170</td>\n",
       "      <td>3.031944</td>\n",
       "      <td>-2.147332</td>\n",
       "      <td>5.662904</td>\n",
       "      <td>-1.173144</td>\n",
       "      <td>0.0</td>\n",
       "      <td>0.0</td>\n",
       "    </tr>\n",
       "    <tr>\n",
       "      <th>2</th>\n",
       "      <td>-1.678465</td>\n",
       "      <td>-1.180167</td>\n",
       "      <td>2.839956</td>\n",
       "      <td>3.107735</td>\n",
       "      <td>-1.888644</td>\n",
       "      <td>0.562984</td>\n",
       "      <td>-1.233494</td>\n",
       "      <td>0.0</td>\n",
       "      <td>0.0</td>\n",
       "    </tr>\n",
       "    <tr>\n",
       "      <th>3</th>\n",
       "      <td>1.265968</td>\n",
       "      <td>-0.124625</td>\n",
       "      <td>3.480917</td>\n",
       "      <td>2.104963</td>\n",
       "      <td>-3.190705</td>\n",
       "      <td>7.494720</td>\n",
       "      <td>0.027286</td>\n",
       "      <td>0.0</td>\n",
       "      <td>0.0</td>\n",
       "    </tr>\n",
       "    <tr>\n",
       "      <th>4</th>\n",
       "      <td>-0.166420</td>\n",
       "      <td>-0.377176</td>\n",
       "      <td>3.372766</td>\n",
       "      <td>3.350655</td>\n",
       "      <td>-2.923395</td>\n",
       "      <td>2.134873</td>\n",
       "      <td>-0.379936</td>\n",
       "      <td>0.0</td>\n",
       "      <td>0.0</td>\n",
       "    </tr>\n",
       "    <tr>\n",
       "      <th>...</th>\n",
       "      <td>...</td>\n",
       "      <td>...</td>\n",
       "      <td>...</td>\n",
       "      <td>...</td>\n",
       "      <td>...</td>\n",
       "      <td>...</td>\n",
       "      <td>...</td>\n",
       "      <td>...</td>\n",
       "      <td>...</td>\n",
       "    </tr>\n",
       "    <tr>\n",
       "      <th>130802</th>\n",
       "      <td>1.159891</td>\n",
       "      <td>0.787880</td>\n",
       "      <td>-1.316356</td>\n",
       "      <td>-1.115179</td>\n",
       "      <td>0.784462</td>\n",
       "      <td>-0.274206</td>\n",
       "      <td>0.733838</td>\n",
       "      <td>0.0</td>\n",
       "      <td>0.0</td>\n",
       "    </tr>\n",
       "    <tr>\n",
       "      <th>130803</th>\n",
       "      <td>-0.666722</td>\n",
       "      <td>-0.063019</td>\n",
       "      <td>-1.112414</td>\n",
       "      <td>-1.148216</td>\n",
       "      <td>1.732983</td>\n",
       "      <td>-0.660574</td>\n",
       "      <td>-0.071347</td>\n",
       "      <td>0.0</td>\n",
       "      <td>0.0</td>\n",
       "    </tr>\n",
       "    <tr>\n",
       "      <th>130804</th>\n",
       "      <td>1.086634</td>\n",
       "      <td>0.203542</td>\n",
       "      <td>-1.213502</td>\n",
       "      <td>-1.121009</td>\n",
       "      <td>1.301837</td>\n",
       "      <td>-0.582737</td>\n",
       "      <td>0.122107</td>\n",
       "      <td>0.0</td>\n",
       "      <td>0.0</td>\n",
       "    </tr>\n",
       "    <tr>\n",
       "      <th>130805</th>\n",
       "      <td>0.808277</td>\n",
       "      <td>-0.554675</td>\n",
       "      <td>-1.352774</td>\n",
       "      <td>-1.159877</td>\n",
       "      <td>1.646754</td>\n",
       "      <td>-0.458057</td>\n",
       "      <td>-0.617314</td>\n",
       "      <td>0.0</td>\n",
       "      <td>0.0</td>\n",
       "    </tr>\n",
       "    <tr>\n",
       "      <th>130806</th>\n",
       "      <td>-1.050725</td>\n",
       "      <td>-0.609917</td>\n",
       "      <td>-1.076879</td>\n",
       "      <td>-1.163763</td>\n",
       "      <td>2.681505</td>\n",
       "      <td>-1.046590</td>\n",
       "      <td>-0.637519</td>\n",
       "      <td>0.0</td>\n",
       "      <td>0.0</td>\n",
       "    </tr>\n",
       "  </tbody>\n",
       "</table>\n",
       "<p>130807 rows × 9 columns</p>\n",
       "</div>"
      ],
      "text/plain": [
       "               a         q  data_arc  n_obs_used         H  diameter  \\\n",
       "0      -1.538299 -1.243929  3.662787    3.164093 -2.406019  0.788395   \n",
       "1      -1.179186 -1.202080  3.411170    3.031944 -2.147332  5.662904   \n",
       "2      -1.678465 -1.180167  2.839956    3.107735 -1.888644  0.562984   \n",
       "3       1.265968 -0.124625  3.480917    2.104963 -3.190705  7.494720   \n",
       "4      -0.166420 -0.377176  3.372766    3.350655 -2.923395  2.134873   \n",
       "...          ...       ...       ...         ...       ...       ...   \n",
       "130802  1.159891  0.787880 -1.316356   -1.115179  0.784462 -0.274206   \n",
       "130803 -0.666722 -0.063019 -1.112414   -1.148216  1.732983 -0.660574   \n",
       "130804  1.086634  0.203542 -1.213502   -1.121009  1.301837 -0.582737   \n",
       "130805  0.808277 -0.554675 -1.352774   -1.159877  1.646754 -0.458057   \n",
       "130806 -1.050725 -0.609917 -1.076879   -1.163763  2.681505 -1.046590   \n",
       "\n",
       "            moid  neo_Y  pha_Y  \n",
       "0      -1.218612    0.0    0.0  \n",
       "1      -1.173144    0.0    0.0  \n",
       "2      -1.233494    0.0    0.0  \n",
       "3       0.027286    0.0    0.0  \n",
       "4      -0.379936    0.0    0.0  \n",
       "...          ...    ...    ...  \n",
       "130802  0.733838    0.0    0.0  \n",
       "130803 -0.071347    0.0    0.0  \n",
       "130804  0.122107    0.0    0.0  \n",
       "130805 -0.617314    0.0    0.0  \n",
       "130806 -0.637519    0.0    0.0  \n",
       "\n",
       "[130807 rows x 9 columns]"
      ]
     },
     "execution_count": 140,
     "metadata": {},
     "output_type": "execute_result"
    }
   ],
   "source": [
    "scaled_data = pd.DataFrame(StandardScaler().fit_transform(new_df), columns = new_df.columns)\n",
    "scaled_data"
   ]
  },
  {
   "cell_type": "markdown",
   "id": "c1362b92",
   "metadata": {},
   "source": [
    "### Splitting the data"
   ]
  },
  {
   "cell_type": "code",
   "execution_count": 144,
   "id": "b538d2ac",
   "metadata": {},
   "outputs": [],
   "source": [
    "X = scaled_data.drop(['diameter'], axis = 1)\n",
    "Y = scaled_data.diameter"
   ]
  },
  {
   "cell_type": "code",
   "execution_count": 148,
   "id": "34585753",
   "metadata": {},
   "outputs": [],
   "source": [
    "X_train, X_test, y_train, y_test = train_test_split(X,Y,test_size = 0.1,random_state=30)"
   ]
  },
  {
   "cell_type": "markdown",
   "id": "9231e3e9",
   "metadata": {},
   "source": [
    "### Building the models"
   ]
  },
  {
   "cell_type": "code",
   "execution_count": 165,
   "id": "7da9ac60",
   "metadata": {},
   "outputs": [
    {
     "name": "stderr",
     "output_type": "stream",
     "text": [
      "C:\\Users\\Asus\\anaconda3\\envs\\aivenv\\lib\\site-packages\\xgboost\\compat.py:36: FutureWarning: pandas.Int64Index is deprecated and will be removed from pandas in a future version. Use pandas.Index with the appropriate dtype instead.\n",
      "  from pandas import MultiIndex, Int64Index\n"
     ]
    },
    {
     "data": {
      "text/plain": [
       "Lasso(alpha=0.1)"
      ]
     },
     "execution_count": 165,
     "metadata": {},
     "output_type": "execute_result"
    }
   ],
   "source": [
    "from sklearn.linear_model import LinearRegression\n",
    "from sklearn.preprocessing import PolynomialFeatures\n",
    "from sklearn.linear_model import Ridge\n",
    "from sklearn.linear_model import Lasso\n",
    "from sklearn.ensemble import RandomForestRegressor\n",
    "from xgboost import XGBRegressor\n",
    "from sklearn.metrics import r2_score\n",
    "\n",
    "reg_model = LinearRegression()\n",
    "reg_model.fit(X_train,y_train)\n",
    "\n",
    "poly_reg = PolynomialFeatures(2)\n",
    "poly_reg = PolynomialFeatures(2)\n",
    "new_x_train = poly_reg.fit_transform(X_train)\n",
    "new_x_test = poly_reg.fit_transform(X_test)\n",
    "\n",
    "poly_reg_model = LinearRegression()\n",
    "poly_reg_model.fit(new_x_train , y_train)\n",
    "\n",
    "ridge_reg = Ridge(alpha=0.01)\n",
    "ridge_reg.fit(X_train,y_train)\n",
    "\n",
    "lasso_reg = Lasso(alpha=0.1)\n",
    "lasso_reg.fit(X_train,y_train)\n",
    "\n"
   ]
  },
  {
   "cell_type": "code",
   "execution_count": null,
   "id": "c0a524e1",
   "metadata": {},
   "outputs": [],
   "source": [
    "models = [\"Linear Regression\",\"Polynomial Regression\",\"\"]"
   ]
  },
  {
   "cell_type": "markdown",
   "id": "cbf82d22",
   "metadata": {},
   "source": [
    "### Using Neural Networks"
   ]
  },
  {
   "cell_type": "code",
   "execution_count": 156,
   "id": "314ac46a",
   "metadata": {},
   "outputs": [],
   "source": [
    "import tensorflow as tf\n",
    "from tensorflow import keras"
   ]
  },
  {
   "cell_type": "code",
   "execution_count": 159,
   "id": "8effd99a",
   "metadata": {},
   "outputs": [],
   "source": [
    "# Creating model using the Sequential in tensorflow\n",
    "def build_model_using_sequential():\n",
    "    ANN= keras.Sequential([\n",
    "        #input layer\n",
    "        keras.layers.Dense(60, input_dim=X_train.shape[1],activation=\"relu\"),\n",
    "        #hidden layers\n",
    "        keras.layers.Dropout(0.4), \n",
    "        keras.layers.Dense(40,activation=\"relu\"),\n",
    "        keras.layers.Dropout(0.4), \n",
    "        keras.layers.Dense(20,activation=\"relu\"),\n",
    "        keras.layers.Dropout(0.3),  \n",
    "        #output layer\n",
    "        keras.layers.Dense(1, activation='linear')\n",
    "    ])\n",
    "    return ANN\n",
    "\n",
    "# build the model\n",
    "ANN = build_model_using_sequential()"
   ]
  },
  {
   "cell_type": "code",
   "execution_count": 161,
   "id": "979e84ff",
   "metadata": {},
   "outputs": [],
   "source": [
    "ANN.compile(loss=\"mean_squared_error\", optimizer='adam', metrics=[\"mse\"])"
   ]
  },
  {
   "cell_type": "code",
   "execution_count": 162,
   "id": "a0af793e",
   "metadata": {
    "scrolled": true
   },
   "outputs": [
    {
     "name": "stdout",
     "output_type": "stream",
     "text": [
      "Epoch 1/10\n",
      "1472/1472 [==============================] - 5s 3ms/step - loss: 0.4024 - mse: 0.4024 - val_loss: 0.2528 - val_mse: 0.2528\n",
      "Epoch 2/10\n",
      "1472/1472 [==============================] - 3s 2ms/step - loss: 0.3259 - mse: 0.3259 - val_loss: 0.2591 - val_mse: 0.2591\n",
      "Epoch 3/10\n",
      "1472/1472 [==============================] - 3s 2ms/step - loss: 0.3111 - mse: 0.3111 - val_loss: 0.2486 - val_mse: 0.2486\n",
      "Epoch 4/10\n",
      "1472/1472 [==============================] - 4s 3ms/step - loss: 0.3033 - mse: 0.3033 - val_loss: 0.2583 - val_mse: 0.2583\n",
      "Epoch 5/10\n",
      "1472/1472 [==============================] - 4s 3ms/step - loss: 0.3016 - mse: 0.3016 - val_loss: 0.2457 - val_mse: 0.2457\n",
      "Epoch 6/10\n",
      "1472/1472 [==============================] - 4s 3ms/step - loss: 0.3008 - mse: 0.3008 - val_loss: 0.2522 - val_mse: 0.2522\n",
      "Epoch 7/10\n",
      "1472/1472 [==============================] - 4s 3ms/step - loss: 0.2962 - mse: 0.2962 - val_loss: 0.2636 - val_mse: 0.2636\n",
      "Epoch 8/10\n",
      "1472/1472 [==============================] - 4s 3ms/step - loss: 0.2924 - mse: 0.2924 - val_loss: 0.2383 - val_mse: 0.2383\n",
      "Epoch 9/10\n",
      "1472/1472 [==============================] - 4s 3ms/step - loss: 0.2883 - mse: 0.2883 - val_loss: 0.2370 - val_mse: 0.2370\n",
      "Epoch 10/10\n",
      "1472/1472 [==============================] - 4s 3ms/step - loss: 0.2886 - mse: 0.2886 - val_loss: 0.2568 - val_mse: 0.2568\n"
     ]
    },
    {
     "data": {
      "text/plain": [
       "<keras.callbacks.History at 0x242ea0c2dc0>"
      ]
     },
     "execution_count": 162,
     "metadata": {},
     "output_type": "execute_result"
    }
   ],
   "source": [
    "ANN.fit(X_train, y_train, epochs=10, batch_size=64,validation_split=0.2)"
   ]
  },
  {
   "cell_type": "code",
   "execution_count": 163,
   "id": "812552ee",
   "metadata": {
    "scrolled": true
   },
   "outputs": [
    {
     "name": "stdout",
     "output_type": "stream",
     "text": [
      "409/409 [==============================] - 1s 2ms/step - loss: 0.2670 - mse: 0.2670\n"
     ]
    },
    {
     "data": {
      "text/plain": [
       "[0.2669929563999176, 0.2669929563999176]"
      ]
     },
     "execution_count": 163,
     "metadata": {},
     "output_type": "execute_result"
    }
   ],
   "source": [
    "ANN.evaluate(X_test,y_test)"
   ]
  },
  {
   "cell_type": "code",
   "execution_count": 166,
   "id": "2da085b7",
   "metadata": {},
   "outputs": [
    {
     "data": {
      "text/plain": [
       "0.7346460771120533"
      ]
     },
     "execution_count": 166,
     "metadata": {},
     "output_type": "execute_result"
    }
   ],
   "source": [
    "y_pred=ANN.predict(X_test)\n",
    "r2_score(y_test,y_pred)"
   ]
  },
  {
   "cell_type": "code",
   "execution_count": 167,
   "id": "a98ab539",
   "metadata": {
    "scrolled": true
   },
   "outputs": [
    {
     "name": "stdout",
     "output_type": "stream",
     "text": [
      "Model: \"sequential_2\"\n",
      "_________________________________________________________________\n",
      " Layer (type)                Output Shape              Param #   \n",
      "=================================================================\n",
      " dense_8 (Dense)             (None, 60)                540       \n",
      "                                                                 \n",
      " dropout_6 (Dropout)         (None, 60)                0         \n",
      "                                                                 \n",
      " dense_9 (Dense)             (None, 40)                2440      \n",
      "                                                                 \n",
      " dropout_7 (Dropout)         (None, 40)                0         \n",
      "                                                                 \n",
      " dense_10 (Dense)            (None, 20)                820       \n",
      "                                                                 \n",
      " dropout_8 (Dropout)         (None, 20)                0         \n",
      "                                                                 \n",
      " dense_11 (Dense)            (None, 1)                 21        \n",
      "                                                                 \n",
      "=================================================================\n",
      "Total params: 3,821\n",
      "Trainable params: 3,821\n",
      "Non-trainable params: 0\n",
      "_________________________________________________________________\n"
     ]
    }
   ],
   "source": [
    "ANN.summary()"
   ]
  }
 ],
 "metadata": {
  "kernelspec": {
   "display_name": "Python 3",
   "language": "python",
   "name": "python3"
  },
  "language_info": {
   "codemirror_mode": {
    "name": "ipython",
    "version": 3
   },
   "file_extension": ".py",
   "mimetype": "text/x-python",
   "name": "python",
   "nbconvert_exporter": "python",
   "pygments_lexer": "ipython3",
   "version": "3.8.3"
  }
 },
 "nbformat": 4,
 "nbformat_minor": 5
}
